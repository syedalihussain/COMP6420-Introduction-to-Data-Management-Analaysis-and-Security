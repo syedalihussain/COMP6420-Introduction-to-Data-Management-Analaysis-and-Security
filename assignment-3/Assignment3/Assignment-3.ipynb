{
 "cells": [
  {
   "cell_type": "markdown",
   "metadata": {
    "deletable": false,
    "editable": false,
    "nbgrader": {
     "checksum": "fdc40c6f619d87620455aa55ad38db61",
     "grade": false,
     "grade_id": "cell-2e788b64c47c51f0",
     "locked": true,
     "schema_version": 1,
     "solution": false
    }
   },
   "source": [
    "# COMP2420/6420 - Introduction to Data Management, Analysis and Security\n",
    "\n",
    "\n",
    "### Australian National University\n",
    "\n",
    "### College of Engineering and Computer Science"
   ]
  },
  {
   "cell_type": "markdown",
   "metadata": {
    "deletable": false,
    "editable": false,
    "nbgrader": {
     "checksum": "ff29337b01af89773420e21640dc2e13",
     "grade": false,
     "grade_id": "cell-507e9fc64615e9b1",
     "locked": true,
     "schema_version": 1,
     "solution": false
    }
   },
   "source": [
    "Assignment 3 \n",
    "============\n",
    "\n",
    "  \n",
    "|**Maximum marks**         |**100**\n",
    "|--------------------------|--------\n",
    "|  **Weight**              |  **15% of the total marks for the course**\n",
    "|  **Submission deadline** |  **5pm, Friday, May 18**\n",
    "|  **Submission mode**     |  **Electronic, using wattle**\n",
    "|  **Estimated time**      |  **20 hours**\n",
    "|  **Penalty**             |  **100% after the deadline**\n",
    "  \n"
   ]
  },
  {
   "cell_type": "markdown",
   "metadata": {
    "deletable": false,
    "editable": false,
    "nbgrader": {
     "checksum": "ac17bba771e8f168a8e5f5c6d8e2b56c",
     "grade": false,
     "grade_id": "cell-5f1b50ee6d48518b",
     "locked": true,
     "schema_version": 1,
     "solution": false
    }
   },
   "source": [
    "# Submission\n",
    "\n",
    "You need to submit the notebook `Assignment-3.ipynb` as part of your submission on wattle. You need to add your group and student details below. Remember your filename should be exactly as given below. Any changes to file name will mean your file can't be marked by the automarker, resulting in a zero mark.\n",
    "\n",
    "**Note**\n",
    "\n",
    "* For answers requiring free form written text, use the designated cells denoted by `YOUR ANSWER HERE` -- double click on the cell to write inside them.\n",
    "* For all coding questions please write your code after the comment `YOUR CODE HERE`.\n",
    "* After inserting your code **please remove** the following line from each code cell `raise NotImplementedError()`.\n",
    "* In the process of testing your code, you can insert more cells or use print statements for debugging, but when submitting your file remember to remove these cells and calls respectively.\n",
    "* You will be marked on **correctness** and **readability** of your code, if your marker can't understand your code you will get zero marks. \n",
    "* We have marked some questions with a tag **hard** and **slightly hard**, so that you can plan your time accordingly\n",
    "* We advise students to skip Q2.4 at first. You can always come back after finishing all other questions.\n",
    "* Have marked changes in color  <font color='magenta'>magenta from last version</font>, there are few clarifications."
   ]
  },
  {
   "cell_type": "markdown",
   "metadata": {},
   "source": [
    "### Group Name : 218\n",
    "### Student Id1: u6028474\n",
    "### Student Id2: u6161780"
   ]
  },
  {
   "cell_type": "code",
   "execution_count": 1,
   "metadata": {
    "deletable": false,
    "editable": false,
    "nbgrader": {
     "checksum": "d256dca8516e0b8df0b2dd9ee9d0b63f",
     "grade": false,
     "grade_id": "cell-7a73997def131f21",
     "locked": true,
     "schema_version": 1,
     "solution": false
    }
   },
   "outputs": [
    {
     "name": "stderr",
     "output_type": "stream",
     "text": [
      "/usr/local/anaconda3/lib/python3.6/site-packages/matplotlib/font_manager.py:281: UserWarning: Matplotlib is building the font cache using fc-list. This may take a moment.\n",
      "  'Matplotlib is building the font cache using fc-list. '\n"
     ]
    }
   ],
   "source": [
    "import json\n",
    "import os\n",
    "import urllib\n",
    "import numpy as np\n",
    "import pandas as pd\n",
    "import seaborn as sns\n",
    "import matplotlib.pyplot as plt\n",
    "from sklearn import datasets\n",
    "from sklearn.linear_model import LinearRegression, LogisticRegression\n",
    "from sklearn.model_selection import train_test_split, cross_val_score\n",
    "from sklearn.neighbors import KNeighborsClassifier, KNeighborsRegressor\n",
    "from scipy.stats import ttest_ind, ttest_rel,ttest_1samp\n",
    "from sklearn.preprocessing import scale\n",
    "plt.style.use('seaborn-notebook')\n",
    "## inline figures\n",
    "%matplotlib inline\n",
    "\n",
    "## just to make sure few warnings are not shown\n",
    "import warnings\n",
    "warnings.filterwarnings(\"ignore\")"
   ]
  },
  {
   "cell_type": "markdown",
   "metadata": {
    "deletable": false,
    "editable": false,
    "nbgrader": {
     "checksum": "8e74be905ae5a2fffe08ca754453a61a",
     "grade": false,
     "grade_id": "cell-f32ba0f9b226ad50",
     "locked": true,
     "schema_version": 1,
     "solution": false
    }
   },
   "source": [
    "#### If you need to put more imports please insert them below"
   ]
  },
  {
   "cell_type": "code",
   "execution_count": 2,
   "metadata": {
    "collapsed": true
   },
   "outputs": [],
   "source": [
    "## Put extra imports here if required by your code\n",
    "from sklearn.metrics import make_scorer, mean_squared_error, accuracy_score\n",
    "from scipy.stats import iqr\n",
    "from scipy.spatial import distance_matrix"
   ]
  },
  {
   "cell_type": "markdown",
   "metadata": {
    "deletable": false,
    "editable": false,
    "nbgrader": {
     "checksum": "16e51aa97cf0bf7082e50ba21cc4ccbe",
     "grade": false,
     "grade_id": "cell-f1a9482c04e9e206",
     "locked": true,
     "schema_version": 1,
     "solution": false
    }
   },
   "source": [
    "## Part 1 Data Analysis (15 marks)\n",
    "\n",
    "We will use the tweets dataset from [Assignment 2](https://cs.anu.edu.au/courses/comp2420/assessment/02-assignments/ass2/comp2420/assignment-2/). The questions in part 1 are not merely about performing a t-test, you need to think carefully about the type of t-test to run and craft your hypothesis accordingly."
   ]
  },
  {
   "cell_type": "markdown",
   "metadata": {
    "deletable": false,
    "editable": false,
    "nbgrader": {
     "checksum": "1497a89551d4062411922932cc8f2ac9",
     "grade": false,
     "grade_id": "cell-a095c3f227238a1c",
     "locked": true,
     "schema_version": 1,
     "solution": false
    }
   },
   "source": [
    "#### Reading the dataframe"
   ]
  },
  {
   "cell_type": "code",
   "execution_count": 3,
   "metadata": {
    "deletable": false,
    "editable": false,
    "nbgrader": {
     "checksum": "c60625c61b49a27a0f7d6e235a47daa9",
     "grade": false,
     "grade_id": "cell-a4c6565bd4858b8f",
     "locked": true,
     "schema_version": 1,
     "solution": false
    }
   },
   "outputs": [
    {
     "data": {
      "text/html": [
       "<div>\n",
       "<style scoped>\n",
       "    .dataframe tbody tr th:only-of-type {\n",
       "        vertical-align: middle;\n",
       "    }\n",
       "\n",
       "    .dataframe tbody tr th {\n",
       "        vertical-align: top;\n",
       "    }\n",
       "\n",
       "    .dataframe thead th {\n",
       "        text-align: right;\n",
       "    }\n",
       "</style>\n",
       "<table border=\"1\" class=\"dataframe\">\n",
       "  <thead>\n",
       "    <tr style=\"text-align: right;\">\n",
       "      <th></th>\n",
       "      <th>time_created</th>\n",
       "      <th>twid</th>\n",
       "      <th>user_id</th>\n",
       "      <th>rtwid</th>\n",
       "      <th>#followers</th>\n",
       "      <th>#friends</th>\n",
       "      <th>#mentions</th>\n",
       "      <th>#hashtags</th>\n",
       "      <th>lang_tweet</th>\n",
       "      <th>lang_user</th>\n",
       "      <th>place</th>\n",
       "    </tr>\n",
       "  </thead>\n",
       "  <tbody>\n",
       "    <tr>\n",
       "      <th>0</th>\n",
       "      <td>2014-08-01 14:54:13</td>\n",
       "      <td>495220965932949505</td>\n",
       "      <td>888538849</td>\n",
       "      <td>495220965932949505</td>\n",
       "      <td>199</td>\n",
       "      <td>156</td>\n",
       "      <td>1</td>\n",
       "      <td>0</td>\n",
       "      <td>th</td>\n",
       "      <td>en</td>\n",
       "      <td>NaN</td>\n",
       "    </tr>\n",
       "    <tr>\n",
       "      <th>1</th>\n",
       "      <td>2014-08-01 15:03:33</td>\n",
       "      <td>495223314806108162</td>\n",
       "      <td>143051249</td>\n",
       "      <td>495223314806108162</td>\n",
       "      <td>88</td>\n",
       "      <td>385</td>\n",
       "      <td>1</td>\n",
       "      <td>0</td>\n",
       "      <td>th</td>\n",
       "      <td>en</td>\n",
       "      <td>NaN</td>\n",
       "    </tr>\n",
       "    <tr>\n",
       "      <th>2</th>\n",
       "      <td>2014-08-01 15:06:18</td>\n",
       "      <td>495224004316114944</td>\n",
       "      <td>103258302</td>\n",
       "      <td>495224004316114944</td>\n",
       "      <td>312</td>\n",
       "      <td>457</td>\n",
       "      <td>0</td>\n",
       "      <td>1</td>\n",
       "      <td>th</td>\n",
       "      <td>en</td>\n",
       "      <td>NaN</td>\n",
       "    </tr>\n",
       "    <tr>\n",
       "      <th>3</th>\n",
       "      <td>2014-08-01 15:11:52</td>\n",
       "      <td>495225405779881984</td>\n",
       "      <td>903364921</td>\n",
       "      <td>495224004316114944</td>\n",
       "      <td>71</td>\n",
       "      <td>461</td>\n",
       "      <td>1</td>\n",
       "      <td>1</td>\n",
       "      <td>th</td>\n",
       "      <td>en</td>\n",
       "      <td>NaN</td>\n",
       "    </tr>\n",
       "    <tr>\n",
       "      <th>4</th>\n",
       "      <td>2014-08-01 15:12:19</td>\n",
       "      <td>495225522066968576</td>\n",
       "      <td>555683225</td>\n",
       "      <td>495225522066968576</td>\n",
       "      <td>1533</td>\n",
       "      <td>375</td>\n",
       "      <td>1</td>\n",
       "      <td>0</td>\n",
       "      <td>th</td>\n",
       "      <td>th</td>\n",
       "      <td>NaN</td>\n",
       "    </tr>\n",
       "  </tbody>\n",
       "</table>\n",
       "</div>"
      ],
      "text/plain": [
       "         time_created                twid    user_id               rtwid  \\\n",
       "0 2014-08-01 14:54:13  495220965932949505  888538849  495220965932949505   \n",
       "1 2014-08-01 15:03:33  495223314806108162  143051249  495223314806108162   \n",
       "2 2014-08-01 15:06:18  495224004316114944  103258302  495224004316114944   \n",
       "3 2014-08-01 15:11:52  495225405779881984  903364921  495224004316114944   \n",
       "4 2014-08-01 15:12:19  495225522066968576  555683225  495225522066968576   \n",
       "\n",
       "   #followers  #friends  #mentions  #hashtags lang_tweet lang_user place  \n",
       "0         199       156          1          0         th        en   NaN  \n",
       "1          88       385          1          0         th        en   NaN  \n",
       "2         312       457          0          1         th        en   NaN  \n",
       "3          71       461          1          1         th        en   NaN  \n",
       "4        1533       375          1          0         th        th   NaN  "
      ]
     },
     "execution_count": 3,
     "metadata": {},
     "output_type": "execute_result"
    }
   ],
   "source": [
    "df_tweets = pd.read_hdf(os.path.join('data','yt_tweets_df.h5'))\n",
    "df_tweets.head(5)"
   ]
  },
  {
   "cell_type": "markdown",
   "metadata": {
    "deletable": false,
    "editable": false,
    "nbgrader": {
     "checksum": "d47abc9c769001ae83be04a754cfd0bf",
     "grade": false,
     "grade_id": "cell-39f6ee7419230649",
     "locked": true,
     "schema_version": 1,
     "solution": false
    }
   },
   "source": [
    "#### For question Q1.1, Q1.2 and Q1.3 you need to work on the dataframe `df_tweets`"
   ]
  },
  {
   "cell_type": "markdown",
   "metadata": {
    "deletable": false,
    "editable": false,
    "nbgrader": {
     "checksum": "2e087992b877b83d161498b8280cc63d",
     "grade": false,
     "grade_id": "cell-7bf6afffdf7e5244",
     "locked": true,
     "schema_version": 1,
     "solution": false
    }
   },
   "source": [
    "## Q 1.1\n",
    "### Compare the mean for '#friends' for tweets in language 'en' (lang_tweet='en') against the overall mean value, 612. (5 marks)\n",
    "Give your analysis with the help of a t-test . You will need to explicitly state your hypothesis and p-value being used. In two cells below, write your code to perform test in first cell and in second cell write your hypothesis, p-value and the result from running the tests."
   ]
  },
  {
   "cell_type": "code",
   "execution_count": 4,
   "metadata": {
    "deletable": false,
    "nbgrader": {
     "checksum": "de0bc6806d9bb136d9e45fea7afff69c",
     "grade": true,
     "grade_id": "cell-d35e877e0dab5069",
     "locked": false,
     "points": 2.5,
     "schema_version": 1,
     "solution": true
    }
   },
   "outputs": [
    {
     "name": "stdout",
     "output_type": "stream",
     "text": [
      "Ttest_1sampResult(statistic=2.492109857809847, pvalue=0.012724705375945883)\n"
     ]
    }
   ],
   "source": [
    "# YOUR CODE HERE\n",
    "english_tweets = df_tweets[df_tweets.loc[:,'lang_tweet'] == 'en']\n",
    "print(ttest_1samp(english_tweets['#friends'], df_tweets['#friends'].mean()))\n",
    "# raise NotImplementedError()"
   ]
  },
  {
   "cell_type": "markdown",
   "metadata": {
    "deletable": false,
    "nbgrader": {
     "checksum": "87a6edcbacbfc682a88c0445e031aadc",
     "grade": true,
     "grade_id": "cell-385020ae21cc65b6",
     "locked": false,
     "points": 2.5,
     "schema_version": 1,
     "solution": true
    }
   },
   "source": [
    "The results indicate that we need to reject the null hypothesis as the p-value of 0.0127 is much lower than 5%. The  statistics is -1.922. This means that our data is valid."
   ]
  },
  {
   "cell_type": "markdown",
   "metadata": {
    "deletable": false,
    "editable": false,
    "nbgrader": {
     "checksum": "6c10b0f0d9927eaf21a4a7d9b21b0912",
     "grade": false,
     "grade_id": "cell-ede7ca736534521d",
     "locked": true,
     "schema_version": 1,
     "solution": false
    }
   },
   "source": [
    "## Q 1.2\n",
    "### Compare the mean for '#friends' for tweets tagged with language English (lang_tweet='en') against the tweets tagged with language Japanese (lang_tweet='ja'). (5 marks)\n",
    "Give your analysis with the help of a t-test . You will need to explicitly state your hypothesis and p-value being used. In two cells below, write your code to perform test in first cell and in second cell write your hypothesis, p-value and the result from running the tests."
   ]
  },
  {
   "cell_type": "code",
   "execution_count": 5,
   "metadata": {
    "deletable": false,
    "nbgrader": {
     "checksum": "93b5484729ab467899b7ec700bd1f11f",
     "grade": true,
     "grade_id": "cell-b368913b60cefdce",
     "locked": false,
     "points": 2.5,
     "schema_version": 1,
     "solution": true
    }
   },
   "outputs": [
    {
     "name": "stdout",
     "output_type": "stream",
     "text": [
      "Ttest_indResult(statistic=-2.8978352577844055, pvalue=0.003765385642525458)\n"
     ]
    }
   ],
   "source": [
    "# YOUR CODE HERE\n",
    "english_tweets = df_tweets[df_tweets.loc[:,'lang_tweet'] == 'en']\n",
    "japanese_tweets = df_tweets[df_tweets.loc[:,'lang_tweet'] == 'ja']\n",
    "print(ttest_ind(japanese_tweets.loc[:, '#friends'],english_tweets.loc[:, '#friends']))\n",
    "# raise NotImplementedError()"
   ]
  },
  {
   "cell_type": "markdown",
   "metadata": {
    "deletable": false,
    "nbgrader": {
     "checksum": "a34c47bef81fe7614b67b3a9c4b22129",
     "grade": true,
     "grade_id": "cell-5751c1a805991bce",
     "locked": false,
     "points": 2.5,
     "schema_version": 1,
     "solution": true
    }
   },
   "source": [
    "The t-test performed on tweets in japanese and english give us a p-value of 0.00376 and statistics of -2.89784. The low value of p-value is strong evidence that we reject our null hypothesis and thus they are different from each other."
   ]
  },
  {
   "cell_type": "markdown",
   "metadata": {
    "deletable": false,
    "editable": false,
    "nbgrader": {
     "checksum": "c20bfc0df2d095f840d8baab9649d062",
     "grade": false,
     "grade_id": "cell-c0c7631e6edf978c",
     "locked": true,
     "schema_version": 1,
     "solution": false
    }
   },
   "source": [
    "## Q 1.3\n",
    "### Compare the mean for '#followers' against '#friends 'for tweets tagged with language English (lang_tweet='en'). (5 marks)\n",
    "\n",
    "Give your analysis with the help of a t-test . You will need to explicitly state your hypothesis and p-value being used. In two cells below, write your code to perform test in first cell and in second cell write your hypothesis, p-value and the result from running the tests."
   ]
  },
  {
   "cell_type": "code",
   "execution_count": 6,
   "metadata": {
    "deletable": false,
    "nbgrader": {
     "checksum": "1ec528f68f5afefd9edc042899350b26",
     "grade": true,
     "grade_id": "cell-1154ab0e7e7d5c02",
     "locked": false,
     "points": 2.5,
     "schema_version": 1,
     "solution": true
    }
   },
   "outputs": [
    {
     "name": "stdout",
     "output_type": "stream",
     "text": [
      "Ttest_relResult(statistic=6.644535539911943, pvalue=3.301997736107237e-11)\n"
     ]
    }
   ],
   "source": [
    "# YOUR CODE HERE\n",
    "followers = english_tweets.loc[:, '#followers']\n",
    "friends = english_tweets.loc[:, '#friends']\n",
    "print(ttest_rel(followers,friends))\n",
    "# raise NotImplementedError()"
   ]
  },
  {
   "cell_type": "markdown",
   "metadata": {
    "deletable": false,
    "nbgrader": {
     "checksum": "d46516df22f7045128f025a47fddb885",
     "grade": true,
     "grade_id": "cell-39f094d14762c1cc",
     "locked": false,
     "points": 2.5,
     "schema_version": 1,
     "solution": true
    }
   },
   "source": [
    "The very low p-value is a strong basis to reject our null hypothesis. Relative t-test is done since #follower and #friends are different population datasets. The statistics measure is 7.4832 and the p-value is 3.302e-11. There is a very low chance that data is similar."
   ]
  },
  {
   "cell_type": "markdown",
   "metadata": {
    "deletable": false,
    "editable": false,
    "nbgrader": {
     "checksum": "1419ec5c426c21895dfbca5f4497b060",
     "grade": false,
     "grade_id": "cell-6f6b9a8e50905fe3",
     "locked": true,
     "schema_version": 1,
     "solution": false
    }
   },
   "source": [
    "## Part 2 Regression (45 marks)\n",
    "\n",
    "We will use the data from before 2018 in the [Sean Lahman's Baseball Database](http://www.seanlahman.com/#sportsdata) to create a metric for picking baseball players using linear regression. This database contains the \"complete batting and pitching statistics from 1871 to 2017, plus fielding statistics, standings, team stats, managerial records, post-season data, and more\". [Documentation provided here]http://www.seanlahman.com/files/database/readme2017.txt).\n",
    "\n",
    "We have extracted the data and derived two dataframes from it. These dataframes have historical offensive (that is, batting statistics) information about various teams and players up to and including the 2017 season.\n",
    "\n",
    "Name of pandas DataFrame  | Name of file\n",
    ":---: |  :---: |\n",
    "stats |  baseball_team_stats_offensive_players.h5\n",
    "playerLS | baseball_players_offensive_stats.h5\n",
    "\n",
    "Description of **stats** DataFrame\n",
    "\n",
    "Field| Description\n",
    ":---: |  :---: |\n",
    "teamID| unique ID for a baseball team\n",
    "yearID| years for which we have stats for\n",
    "w| number of games won out of 162 games played in a season\n",
    "1B| normalized number of singles hit by team\n",
    "2B| normalized number of doubles hit by team\n",
    "3B| normalized number of triples hit by team\n",
    "HR| normalized number of home runs hit by team\n",
    "BB| normalized number of Base on Balls by team\n",
    "\n",
    "Description of **playerLS** DataFrame\n",
    "\n",
    "Field| Description\n",
    ":---: |  :---: |\n",
    "playerID| unique ID for a player\n",
    "POS| position where a player plays in the team\n",
    "minYear| year the player started his career\n",
    "maxYear| year the player played his last game\n",
    "1B| normalized number of singles hit by player\n",
    "2B| normalized number of doubles hit by player\n",
    "3B| normalized number of triples hit by player\n",
    "HR| normalized number of home runs hit by player\n",
    "BB| normalized number of Base on Balls by player\n",
    "nameFirst| first name of the player\n",
    "nameLast| last name of the player\n",
    "salary| median salary of the player\n",
    "\n",
    "***Note:*** You don't need to understand exactly what each of features mean! They can be seen as team/individual statistics for a baseball game."
   ]
  },
  {
   "cell_type": "code",
   "execution_count": 7,
   "metadata": {
    "deletable": false,
    "editable": false,
    "nbgrader": {
     "checksum": "56a6510b32ed955d66e3c59d9ba1bf25",
     "grade": false,
     "grade_id": "cell-4b89d496f9b465c9",
     "locked": true,
     "schema_version": 1,
     "solution": false
    }
   },
   "outputs": [
    {
     "data": {
      "text/html": [
       "<div>\n",
       "<style scoped>\n",
       "    .dataframe tbody tr th:only-of-type {\n",
       "        vertical-align: middle;\n",
       "    }\n",
       "\n",
       "    .dataframe tbody tr th {\n",
       "        vertical-align: top;\n",
       "    }\n",
       "\n",
       "    .dataframe thead th {\n",
       "        text-align: right;\n",
       "    }\n",
       "</style>\n",
       "<table border=\"1\" class=\"dataframe\">\n",
       "  <thead>\n",
       "    <tr style=\"text-align: right;\">\n",
       "      <th></th>\n",
       "      <th>teamID</th>\n",
       "      <th>yearID</th>\n",
       "      <th>W</th>\n",
       "      <th>1B</th>\n",
       "      <th>2B</th>\n",
       "      <th>3B</th>\n",
       "      <th>HR</th>\n",
       "      <th>BB</th>\n",
       "    </tr>\n",
       "  </thead>\n",
       "  <tbody>\n",
       "    <tr>\n",
       "      <th>1366</th>\n",
       "      <td>KC1</td>\n",
       "      <td>1961</td>\n",
       "      <td>61</td>\n",
       "      <td>0.008502</td>\n",
       "      <td>0.000137</td>\n",
       "      <td>0.002113</td>\n",
       "      <td>-0.007983</td>\n",
       "      <td>-0.007465</td>\n",
       "    </tr>\n",
       "    <tr>\n",
       "      <th>1367</th>\n",
       "      <td>LAA</td>\n",
       "      <td>1961</td>\n",
       "      <td>70</td>\n",
       "      <td>-0.008502</td>\n",
       "      <td>-0.000137</td>\n",
       "      <td>-0.002113</td>\n",
       "      <td>0.007983</td>\n",
       "      <td>0.007465</td>\n",
       "    </tr>\n",
       "    <tr>\n",
       "      <th>1377</th>\n",
       "      <td>BAL</td>\n",
       "      <td>1962</td>\n",
       "      <td>77</td>\n",
       "      <td>-0.007816</td>\n",
       "      <td>0.001604</td>\n",
       "      <td>-0.001117</td>\n",
       "      <td>0.002158</td>\n",
       "      <td>-0.002690</td>\n",
       "    </tr>\n",
       "    <tr>\n",
       "      <th>1379</th>\n",
       "      <td>CHA</td>\n",
       "      <td>1962</td>\n",
       "      <td>85</td>\n",
       "      <td>0.000165</td>\n",
       "      <td>0.004904</td>\n",
       "      <td>0.002352</td>\n",
       "      <td>-0.008813</td>\n",
       "      <td>0.012486</td>\n",
       "    </tr>\n",
       "    <tr>\n",
       "      <th>1380</th>\n",
       "      <td>CHN</td>\n",
       "      <td>1962</td>\n",
       "      <td>59</td>\n",
       "      <td>0.003298</td>\n",
       "      <td>-0.003391</td>\n",
       "      <td>0.002497</td>\n",
       "      <td>-0.002944</td>\n",
       "      <td>-0.005119</td>\n",
       "    </tr>\n",
       "  </tbody>\n",
       "</table>\n",
       "</div>"
      ],
      "text/plain": [
       "     teamID  yearID   W        1B        2B        3B        HR        BB\n",
       "1366    KC1    1961  61  0.008502  0.000137  0.002113 -0.007983 -0.007465\n",
       "1367    LAA    1961  70 -0.008502 -0.000137 -0.002113  0.007983  0.007465\n",
       "1377    BAL    1962  77 -0.007816  0.001604 -0.001117  0.002158 -0.002690\n",
       "1379    CHA    1962  85  0.000165  0.004904  0.002352 -0.008813  0.012486\n",
       "1380    CHN    1962  59  0.003298 -0.003391  0.002497 -0.002944 -0.005119"
      ]
     },
     "execution_count": 7,
     "metadata": {},
     "output_type": "execute_result"
    }
   ],
   "source": [
    "stats = pd.read_hdf(os.path.join('data','baseball_team_stats_offensive_players.h5'))\n",
    "stats.head(5)"
   ]
  },
  {
   "cell_type": "code",
   "execution_count": 8,
   "metadata": {
    "deletable": false,
    "editable": false,
    "nbgrader": {
     "checksum": "e58ac0187aa561795c18d30941abb745",
     "grade": false,
     "grade_id": "cell-4944e37eea18ef2c",
     "locked": true,
     "schema_version": 1,
     "solution": false
    },
    "scrolled": true
   },
   "outputs": [
    {
     "data": {
      "text/html": [
       "<div>\n",
       "<style scoped>\n",
       "    .dataframe tbody tr th:only-of-type {\n",
       "        vertical-align: middle;\n",
       "    }\n",
       "\n",
       "    .dataframe tbody tr th {\n",
       "        vertical-align: top;\n",
       "    }\n",
       "\n",
       "    .dataframe thead th {\n",
       "        text-align: right;\n",
       "    }\n",
       "</style>\n",
       "<table border=\"1\" class=\"dataframe\">\n",
       "  <thead>\n",
       "    <tr style=\"text-align: right;\">\n",
       "      <th></th>\n",
       "      <th>playerID</th>\n",
       "      <th>POS</th>\n",
       "      <th>minYear</th>\n",
       "      <th>maxYear</th>\n",
       "      <th>1B</th>\n",
       "      <th>2B</th>\n",
       "      <th>3B</th>\n",
       "      <th>HR</th>\n",
       "      <th>BB</th>\n",
       "      <th>nameFirst</th>\n",
       "      <th>nameLast</th>\n",
       "      <th>salary</th>\n",
       "    </tr>\n",
       "  </thead>\n",
       "  <tbody>\n",
       "    <tr>\n",
       "      <th>0</th>\n",
       "      <td>abreubo01</td>\n",
       "      <td>OF</td>\n",
       "      <td>1996</td>\n",
       "      <td>2014</td>\n",
       "      <td>-0.008202</td>\n",
       "      <td>0.006421</td>\n",
       "      <td>0.001002</td>\n",
       "      <td>-0.003252</td>\n",
       "      <td>0.050501</td>\n",
       "      <td>Bobby</td>\n",
       "      <td>Abreu</td>\n",
       "      <td>9000000.0</td>\n",
       "    </tr>\n",
       "    <tr>\n",
       "      <th>1</th>\n",
       "      <td>abreujo02</td>\n",
       "      <td>1B</td>\n",
       "      <td>2014</td>\n",
       "      <td>2017</td>\n",
       "      <td>0.010626</td>\n",
       "      <td>0.006734</td>\n",
       "      <td>-0.000287</td>\n",
       "      <td>0.015192</td>\n",
       "      <td>-0.020172</td>\n",
       "      <td>Jose</td>\n",
       "      <td>Abreu</td>\n",
       "      <td>8666000.0</td>\n",
       "    </tr>\n",
       "    <tr>\n",
       "      <th>2</th>\n",
       "      <td>ackledu01</td>\n",
       "      <td>2B</td>\n",
       "      <td>2011</td>\n",
       "      <td>2016</td>\n",
       "      <td>-0.015252</td>\n",
       "      <td>-0.007341</td>\n",
       "      <td>0.000254</td>\n",
       "      <td>-0.007980</td>\n",
       "      <td>-0.010525</td>\n",
       "      <td>Dustin</td>\n",
       "      <td>Ackley</td>\n",
       "      <td>2600000.0</td>\n",
       "    </tr>\n",
       "    <tr>\n",
       "      <th>3</th>\n",
       "      <td>adamsma01</td>\n",
       "      <td>1B</td>\n",
       "      <td>2012</td>\n",
       "      <td>2017</td>\n",
       "      <td>0.009914</td>\n",
       "      <td>0.012844</td>\n",
       "      <td>0.004034</td>\n",
       "      <td>0.000221</td>\n",
       "      <td>-0.035555</td>\n",
       "      <td>Matt</td>\n",
       "      <td>Adams</td>\n",
       "      <td>525000.0</td>\n",
       "    </tr>\n",
       "    <tr>\n",
       "      <th>4</th>\n",
       "      <td>adamsru01</td>\n",
       "      <td>SS</td>\n",
       "      <td>2004</td>\n",
       "      <td>2009</td>\n",
       "      <td>-0.007867</td>\n",
       "      <td>-0.001289</td>\n",
       "      <td>0.004160</td>\n",
       "      <td>-0.017533</td>\n",
       "      <td>0.002672</td>\n",
       "      <td>Russ</td>\n",
       "      <td>Adams</td>\n",
       "      <td>329500.0</td>\n",
       "    </tr>\n",
       "  </tbody>\n",
       "</table>\n",
       "</div>"
      ],
      "text/plain": [
       "    playerID POS  minYear  maxYear        1B        2B        3B        HR  \\\n",
       "0  abreubo01  OF     1996     2014 -0.008202  0.006421  0.001002 -0.003252   \n",
       "1  abreujo02  1B     2014     2017  0.010626  0.006734 -0.000287  0.015192   \n",
       "2  ackledu01  2B     2011     2016 -0.015252 -0.007341  0.000254 -0.007980   \n",
       "3  adamsma01  1B     2012     2017  0.009914  0.012844  0.004034  0.000221   \n",
       "4  adamsru01  SS     2004     2009 -0.007867 -0.001289  0.004160 -0.017533   \n",
       "\n",
       "         BB nameFirst nameLast     salary  \n",
       "0  0.050501     Bobby    Abreu  9000000.0  \n",
       "1 -0.020172      Jose    Abreu  8666000.0  \n",
       "2 -0.010525    Dustin   Ackley  2600000.0  \n",
       "3 -0.035555      Matt    Adams   525000.0  \n",
       "4  0.002672      Russ    Adams   329500.0  "
      ]
     },
     "execution_count": 8,
     "metadata": {},
     "output_type": "execute_result"
    }
   ],
   "source": [
    "playerLS = pd.read_hdf(os.path.join('data','baseball_players_offensive_stats.h5'))\n",
    "playerLS.head(5)"
   ]
  },
  {
   "cell_type": "markdown",
   "metadata": {
    "deletable": false,
    "editable": false,
    "nbgrader": {
     "checksum": "6c7eef8daad6984448baf83f4fae00cb",
     "grade": false,
     "grade_id": "cell-417ece2123894e75",
     "locked": true,
     "schema_version": 1,
     "solution": false
    }
   },
   "source": [
    "## Q 2.1\n",
    "\n",
    "### Build a simple linear regression model to predict the number of wins for each entry in `stats` dataframe. Your features should be made up of the columns pertaining to normalized singles, double, triples, HR, and BB rates. (10 marks)\n",
    "\n",
    "To decide which of these terms to include, fit your model on data up to year 2002 and select the best performing model for data from 2003 to 2017. Use the fitted model to define a new [sabermetric](https://en.wikipedia.org/wiki/Sabermetrics) summary: which we'll call Offensive Predicted Wins (OPW). Also list the coefficients of your model"
   ]
  },
  {
   "cell_type": "code",
   "execution_count": 9,
   "metadata": {
    "deletable": false,
    "nbgrader": {
     "checksum": "4de2e579b1a9f3f05413aaebe955490e",
     "grade": true,
     "grade_id": "cell-52166cdc945361b5",
     "locked": false,
     "points": 8,
     "schema_version": 1,
     "solution": true
    }
   },
   "outputs": [
    {
     "name": "stdout",
     "output_type": "stream",
     "text": [
      "The coefficients are:  [ 538.46353806  507.37735132 1092.7889721   853.74427388  513.99657965]\n"
     ]
    }
   ],
   "source": [
    "# YOUR CODE HERE\n",
    "data = stats[(stats.yearID<=2002)]\n",
    "# columns = data.columns == ['1B','2B','3B','HR','BB']\n",
    "X_train = data[['1B','2B','3B','HR','BB']]\n",
    "Y_train = data.W\n",
    "data = stats[(stats.yearID>2002)]\n",
    "X_test = data[['1B','2B','3B','HR','BB']]\n",
    "Y_test = data.W\n",
    "performance = []\n",
    "## for running linear regressions for the all required columns \n",
    "for i in range(1, len(X_train.columns) + 1):\n",
    "    X = X_train.iloc[:,:i]\n",
    "    lm = LinearRegression()\n",
    "    lm.fit(X,Y_train)\n",
    "    score = lm.score(X, Y_train)\n",
    "    performance.append(score)\n",
    "best = np.argmax(performance)\n",
    "X = X_train.iloc[:,:best+1]\n",
    "lm = LinearRegression()\n",
    "lm.fit(X,Y_train)\n",
    "## for finding out the coefficients \n",
    "print(\"The coefficients are: \", lm.coef_)"
   ]
  },
  {
   "cell_type": "markdown",
   "metadata": {
    "deletable": false,
    "nbgrader": {
     "checksum": "d89c33e30ddafe9ac04d8110337adf03",
     "grade": true,
     "grade_id": "cell-38c3d7e997182347",
     "locked": false,
     "points": 2,
     "schema_version": 1,
     "solution": true
    }
   },
   "source": [
    "#### Write your coeficients here in the following order 1B,2B,3B,HR,BB\n",
    "1B\t538.463538\n",
    "2B\t507.377351\n",
    "3B\t1092.788972\n",
    "HR\t853.744274\n",
    "BB\t513.996580"
   ]
  },
  {
   "cell_type": "markdown",
   "metadata": {
    "deletable": false,
    "editable": false,
    "nbgrader": {
     "checksum": "945b52c2ae1f862c0a3af2989b6e4af7",
     "grade": false,
     "grade_id": "cell-90df845d4be980dc",
     "locked": true,
     "schema_version": 1,
     "solution": false
    }
   },
   "source": [
    "## Q 2.2\n",
    "\n",
    "### Compute the OPW for each player based on the average rates in the `playerLS` DataFrame (5 marks)\n",
    "\n",
    "Notice that players essentially have the same features as teams, so you can use your model from Q2.1 to perform a prediction. Add this column to the playerLS DataFrame. Call\\Name this colum OPW."
   ]
  },
  {
   "cell_type": "code",
   "execution_count": 10,
   "metadata": {
    "collapsed": true,
    "deletable": false,
    "nbgrader": {
     "checksum": "9a42098aae4113b3498097b73150b0d7",
     "grade": true,
     "grade_id": "cell-3791a77df18faed0",
     "locked": false,
     "points": 5,
     "schema_version": 1,
     "solution": true
    }
   },
   "outputs": [],
   "source": [
    "# YOUR CODE HERE\n",
    "playerLS['OPW']= lm.predict(playerLS[['1B','2B','3B','HR','BB']])"
   ]
  },
  {
   "cell_type": "markdown",
   "metadata": {
    "deletable": false,
    "editable": false,
    "nbgrader": {
     "checksum": "6a5f4a33bd8a26cc446bfe13465fd283",
     "grade": false,
     "grade_id": "cell-16bff38876cafa1b",
     "locked": true,
     "schema_version": 1,
     "solution": false
    }
   },
   "source": [
    "## Q 2.3\n",
    "### Plot and describe the relationship between the median salary (in millions) and the predicted number of wins for a player. (10 marks)\n",
    "Player should be active in the seasons between 2010 and 2012 inclusive, and should have an experience of at least 5 years. "
   ]
  },
  {
   "cell_type": "code",
   "execution_count": 11,
   "metadata": {
    "deletable": false,
    "nbgrader": {
     "checksum": "9e95514d29f0f439243a043b45cbc9fd",
     "grade": true,
     "grade_id": "cell-b2ae80ad936a0aa9",
     "locked": false,
     "points": 5,
     "schema_version": 1,
     "solution": true
    },
    "scrolled": true
   },
   "outputs": [
    {
     "data": {
      "image/png": "[encoded data removed]",
      "text/plain": [
       "<matplotlib.figure.Figure at 0x7fe4ebb9fc18>"
      ]
     },
     "metadata": {},
     "output_type": "display_data"
    }
   ],
   "source": [
    "# YOUR CODE HERE\n",
    "players = playerLS[(playerLS.minYear<=2010) & (playerLS.maxYear>=2012) & ((playerLS.maxYear-playerLS.minYear)>=5)]\n",
    "players.head(10)\n",
    "plt.figure(figsize=(10,8))\n",
    "ax = plt.subplot(111)\n",
    "ax.scatter(players.OPW, players.salary)\n",
    "ax.set_xlabel(\"Predicted number of wins\", fontsize=22)\n",
    "ax.set_ylabel(\"Player's Salary\",fontsize=22)\n",
    "ax.set_title(\"Salary vs Number of Wins\",fontsize=24)\n",
    "ax.set_xticklabels(ax.get_xticks(),fontsize=14)\n",
    "ax.set_yticklabels(ax.get_yticks(),fontsize=14)\n",
    "sns.despine()\n",
    "# raise NotImplementedError()"
   ]
  },
  {
   "cell_type": "markdown",
   "metadata": {
    "deletable": false,
    "nbgrader": {
     "checksum": "4070cf6e1a3a9fc0e473ae1ed3e197de",
     "grade": true,
     "grade_id": "cell-f062d16dbb6d91a5",
     "locked": false,
     "points": 5,
     "schema_version": 1,
     "solution": true
    }
   },
   "source": [
    "####  Write your description here\n",
    "Lower OPW means lower salary"
   ]
  },
  {
   "cell_type": "markdown",
   "metadata": {
    "deletable": false,
    "editable": false,
    "nbgrader": {
     "checksum": "ba73f19f6bec7da63992a31477c72276",
     "grade": false,
     "grade_id": "cell-aea1be7375d09a37",
     "locked": true,
     "schema_version": 1,
     "solution": false
    }
   },
   "source": [
    "## Q 2.4 \n",
    "#### <font color='magenta'> Pick a team of 9 players such that you have a player for each of the 5 positions: C, 1B, 2B, 3B and SS, and 4 players from position OF</font>. The total budget you have for team salary is 25 million dollars.  Try to optimize for the expected/average OPW. (20 marks)  <font color='red'>hard</font>\n",
    "\n",
    "There are many ways to do this, any reasonable optimization will be worth marks, along with the explanation of why and what are you doing. You should write your explanation in the text block provided"
   ]
  },
  {
   "cell_type": "code",
   "execution_count": 12,
   "metadata": {
    "deletable": false,
    "nbgrader": {
     "checksum": "cf756a39ad3ce8f8b9b8b3c5d82181db",
     "grade": true,
     "grade_id": "cell-b333924ed9dbb3f5",
     "locked": false,
     "points": 15,
     "schema_version": 1,
     "solution": true
    }
   },
   "outputs": [
    {
     "name": "stdout",
     "output_type": "stream",
     "text": [
      "Sum of OPW of team players is:  1026.2817340399786\n"
     ]
    },
    {
     "data": {
      "text/html": [
       "<div>\n",
       "<style scoped>\n",
       "    .dataframe tbody tr th:only-of-type {\n",
       "        vertical-align: middle;\n",
       "    }\n",
       "\n",
       "    .dataframe tbody tr th {\n",
       "        vertical-align: top;\n",
       "    }\n",
       "\n",
       "    .dataframe thead th {\n",
       "        text-align: right;\n",
       "    }\n",
       "</style>\n",
       "<table border=\"1\" class=\"dataframe\">\n",
       "  <thead>\n",
       "    <tr style=\"text-align: right;\">\n",
       "      <th></th>\n",
       "      <th>playerID</th>\n",
       "      <th>POS</th>\n",
       "      <th>minYear</th>\n",
       "      <th>maxYear</th>\n",
       "      <th>1B</th>\n",
       "      <th>2B</th>\n",
       "      <th>3B</th>\n",
       "      <th>HR</th>\n",
       "      <th>BB</th>\n",
       "      <th>nameFirst</th>\n",
       "      <th>nameLast</th>\n",
       "      <th>salary</th>\n",
       "      <th>OPW</th>\n",
       "    </tr>\n",
       "  </thead>\n",
       "  <tbody>\n",
       "    <tr>\n",
       "      <th>26</th>\n",
       "      <td>avilaal01</td>\n",
       "      <td>C</td>\n",
       "      <td>2009</td>\n",
       "      <td>2017</td>\n",
       "      <td>-0.010850</td>\n",
       "      <td>0.011795</td>\n",
       "      <td>0.002084</td>\n",
       "      <td>0.002600</td>\n",
       "      <td>0.046071</td>\n",
       "      <td>Alex</td>\n",
       "      <td>Avila</td>\n",
       "      <td>2500000.0</td>\n",
       "      <td>109.392346</td>\n",
       "    </tr>\n",
       "    <tr>\n",
       "      <th>82</th>\n",
       "      <td>blausje01</td>\n",
       "      <td>SS</td>\n",
       "      <td>1987</td>\n",
       "      <td>1999</td>\n",
       "      <td>0.020951</td>\n",
       "      <td>-0.000902</td>\n",
       "      <td>-0.000679</td>\n",
       "      <td>-0.004460</td>\n",
       "      <td>0.024519</td>\n",
       "      <td>Jeff</td>\n",
       "      <td>Blauser</td>\n",
       "      <td>2000000.0</td>\n",
       "      <td>99.950053</td>\n",
       "    </tr>\n",
       "    <tr>\n",
       "      <th>86</th>\n",
       "      <td>boggswa01</td>\n",
       "      <td>3B</td>\n",
       "      <td>1982</td>\n",
       "      <td>1999</td>\n",
       "      <td>0.040157</td>\n",
       "      <td>0.010644</td>\n",
       "      <td>-0.000072</td>\n",
       "      <td>-0.017124</td>\n",
       "      <td>0.042876</td>\n",
       "      <td>Wade</td>\n",
       "      <td>Boggs</td>\n",
       "      <td>1900000.0</td>\n",
       "      <td>115.436715</td>\n",
       "    </tr>\n",
       "    <tr>\n",
       "      <th>157</th>\n",
       "      <td>carewro01</td>\n",
       "      <td>2B</td>\n",
       "      <td>1967</td>\n",
       "      <td>1985</td>\n",
       "      <td>0.057949</td>\n",
       "      <td>0.001120</td>\n",
       "      <td>0.005040</td>\n",
       "      <td>-0.015115</td>\n",
       "      <td>0.008045</td>\n",
       "      <td>Rod</td>\n",
       "      <td>Carew</td>\n",
       "      <td>875000.0</td>\n",
       "      <td>109.584180</td>\n",
       "    </tr>\n",
       "    <tr>\n",
       "      <th>282</th>\n",
       "      <td>dykstle01</td>\n",
       "      <td>OF</td>\n",
       "      <td>1985</td>\n",
       "      <td>1996</td>\n",
       "      <td>0.014736</td>\n",
       "      <td>0.008640</td>\n",
       "      <td>0.000242</td>\n",
       "      <td>-0.006930</td>\n",
       "      <td>0.053991</td>\n",
       "      <td>Lenny</td>\n",
       "      <td>Dykstra</td>\n",
       "      <td>2316667.0</td>\n",
       "      <td>115.490040</td>\n",
       "    </tr>\n",
       "    <tr>\n",
       "      <th>427</th>\n",
       "      <td>harpebr03</td>\n",
       "      <td>OF</td>\n",
       "      <td>2012</td>\n",
       "      <td>2017</td>\n",
       "      <td>-0.026032</td>\n",
       "      <td>-0.001750</td>\n",
       "      <td>0.001628</td>\n",
       "      <td>0.013729</td>\n",
       "      <td>0.067651</td>\n",
       "      <td>Bryce</td>\n",
       "      <td>Harper</td>\n",
       "      <td>2325000.0</td>\n",
       "      <td>114.440366</td>\n",
       "    </tr>\n",
       "    <tr>\n",
       "      <th>766</th>\n",
       "      <td>phamth01</td>\n",
       "      <td>OF</td>\n",
       "      <td>2014</td>\n",
       "      <td>2017</td>\n",
       "      <td>0.018147</td>\n",
       "      <td>-0.006995</td>\n",
       "      <td>-0.000564</td>\n",
       "      <td>0.006524</td>\n",
       "      <td>0.045787</td>\n",
       "      <td>Tommy</td>\n",
       "      <td>Pham</td>\n",
       "      <td>510000.0</td>\n",
       "      <td>115.784113</td>\n",
       "    </tr>\n",
       "    <tr>\n",
       "      <th>949</th>\n",
       "      <td>thomafr04</td>\n",
       "      <td>1B</td>\n",
       "      <td>1990</td>\n",
       "      <td>2008</td>\n",
       "      <td>-0.020341</td>\n",
       "      <td>0.001086</td>\n",
       "      <td>-0.004899</td>\n",
       "      <td>0.021387</td>\n",
       "      <td>0.069537</td>\n",
       "      <td>Frank</td>\n",
       "      <td>Thomas</td>\n",
       "      <td>7000000.0</td>\n",
       "      <td>119.318192</td>\n",
       "    </tr>\n",
       "    <tr>\n",
       "      <th>965</th>\n",
       "      <td>troutmi01</td>\n",
       "      <td>OF</td>\n",
       "      <td>2011</td>\n",
       "      <td>2017</td>\n",
       "      <td>-0.007585</td>\n",
       "      <td>0.001315</td>\n",
       "      <td>0.006080</td>\n",
       "      <td>0.017489</td>\n",
       "      <td>0.053802</td>\n",
       "      <td>Mike</td>\n",
       "      <td>Trout</td>\n",
       "      <td>3541500.0</td>\n",
       "      <td>126.885728</td>\n",
       "    </tr>\n",
       "  </tbody>\n",
       "</table>\n",
       "</div>"
      ],
      "text/plain": [
       "      playerID POS  minYear  maxYear        1B        2B        3B        HR  \\\n",
       "26   avilaal01   C     2009     2017 -0.010850  0.011795  0.002084  0.002600   \n",
       "82   blausje01  SS     1987     1999  0.020951 -0.000902 -0.000679 -0.004460   \n",
       "86   boggswa01  3B     1982     1999  0.040157  0.010644 -0.000072 -0.017124   \n",
       "157  carewro01  2B     1967     1985  0.057949  0.001120  0.005040 -0.015115   \n",
       "282  dykstle01  OF     1985     1996  0.014736  0.008640  0.000242 -0.006930   \n",
       "427  harpebr03  OF     2012     2017 -0.026032 -0.001750  0.001628  0.013729   \n",
       "766   phamth01  OF     2014     2017  0.018147 -0.006995 -0.000564  0.006524   \n",
       "949  thomafr04  1B     1990     2008 -0.020341  0.001086 -0.004899  0.021387   \n",
       "965  troutmi01  OF     2011     2017 -0.007585  0.001315  0.006080  0.017489   \n",
       "\n",
       "           BB nameFirst nameLast     salary         OPW  \n",
       "26   0.046071      Alex    Avila  2500000.0  109.392346  \n",
       "82   0.024519      Jeff  Blauser  2000000.0   99.950053  \n",
       "86   0.042876      Wade    Boggs  1900000.0  115.436715  \n",
       "157  0.008045       Rod    Carew   875000.0  109.584180  \n",
       "282  0.053991     Lenny  Dykstra  2316667.0  115.490040  \n",
       "427  0.067651     Bryce   Harper  2325000.0  114.440366  \n",
       "766  0.045787     Tommy     Pham   510000.0  115.784113  \n",
       "949  0.069537     Frank   Thomas  7000000.0  119.318192  \n",
       "965  0.053802      Mike    Trout  3541500.0  126.885728  "
      ]
     },
     "execution_count": 12,
     "metadata": {},
     "output_type": "execute_result"
    }
   ],
   "source": [
    "# YOUR CODE HERE\n",
    "# Dividing the players into separate categories with descending orders of their OPW\n",
    "position_c = playerLS[(playerLS.POS == 'C')].sort_values('OPW', ascending=False)\n",
    "position_1b = playerLS[(playerLS.POS == '1B')].sort_values('OPW', ascending=False)\n",
    "position_2b = playerLS[(playerLS.POS == '2B')].sort_values('OPW', ascending=False)\n",
    "position_3b = playerLS[(playerLS.POS == '3B')].sort_values('OPW', ascending=False)\n",
    "position_ss = playerLS[(playerLS.POS == 'SS')].sort_values('OPW', ascending=False)\n",
    "position_of = playerLS[(playerLS.POS == 'OF')].sort_values('OPW', ascending=False)\n",
    "# Initializing our variables for the for-loop\n",
    "salaries = []\n",
    "team = {}\n",
    "team['c'] = position_c.iloc[0,0]\n",
    "salaries.append(position_c.iloc[0,11])\n",
    "team['1b'] = position_1b.iloc[0,0]\n",
    "salaries.append(position_1b.iloc[0,11])\n",
    "team['2b'] = position_2b.iloc[0,0]\n",
    "salaries.append(position_2b.iloc[0,11])\n",
    "team['3b'] = position_3b.iloc[0,0]\n",
    "salaries.append(position_3b.iloc[0,11])\n",
    "team['ss'] = position_ss.iloc[0,0]\n",
    "salaries.append(position_ss.iloc[0,11])\n",
    "team['of0'] = position_of.iloc[0,0]\n",
    "salaries.append(position_of.iloc[0,11])\n",
    "team['of1'] = position_of.iloc[1,0]\n",
    "salaries.append(position_of.iloc[1,11])\n",
    "team['of2'] = position_of.iloc[2,0]\n",
    "salaries.append(position_of.iloc[2,11])\n",
    "team['of3'] = position_of.iloc[3,0]\n",
    "salaries.append(position_of.iloc[3,11])\n",
    "indexes = np.ones(6)\n",
    "indexes[5] = 4\n",
    "# Run the for-loop and keep replacing most expensive players until total salaries drop\n",
    "# below $25 million\n",
    "while(np.sum(salaries) > 25000000):\n",
    "    takeout = np.argmax(salaries)\n",
    "    if takeout <= 4: \n",
    "        i = int (indexes[takeout])\n",
    "    else:\n",
    "        i = int (indexes[5])\n",
    "    if (takeout == 0):\n",
    "        team['c'] = position_c.iloc[i,0]\n",
    "        salaries[takeout] =  position_c.iloc[i,11]\n",
    "        indexes[takeout] += 1\n",
    "    elif (takeout == 1):\n",
    "        team['1b'] = position_1b.iloc[i,0]\n",
    "        salaries[takeout] =  position_1b.iloc[i,11]\n",
    "        indexes[takeout] += 1\n",
    "    elif (takeout == 2):\n",
    "        team['2b'] = position_2b.iloc[i,0]\n",
    "        salaries[takeout] =  position_2b.iloc[i,11]\n",
    "        indexes[takeout] += 1\n",
    "    elif (takeout == 3):\n",
    "        team['3b'] = position_3b.iloc[i,0]\n",
    "        salaries[takeout] =  position_3b.iloc[i,11]\n",
    "        indexes[takeout] += 1\n",
    "    elif (takeout == 4):\n",
    "        team['ss'] = position_ss.iloc[i,0]\n",
    "        salaries[takeout] =  position_ss.iloc[i,11]\n",
    "        indexes[takeout] += 1\n",
    "    elif (takeout == 5):\n",
    "        team['of0'] = position_of.iloc[i,0]\n",
    "        salaries[takeout] =  position_of.iloc[i,11]\n",
    "        indexes[5] += 1\n",
    "    elif (takeout == 6):\n",
    "        team['of1'] = position_of.iloc[i,0]\n",
    "        salaries[takeout] =  position_of.iloc[i,11]\n",
    "        indexes[5] += 1\n",
    "    elif (takeout == 7):\n",
    "        team['of2'] = position_of.iloc[i,0]\n",
    "        salaries[takeout] =  position_of.iloc[i,11]\n",
    "        indexes[5] += 1\n",
    "    elif (takeout == 8):\n",
    "        team['of3'] = position_of.iloc[i,0]\n",
    "        salaries[takeout] =  position_of.iloc[i,11]\n",
    "        indexes[5] += 1\n",
    "teamFormed = playerLS[(playerLS.playerID.isin(list(team.values())))]\n",
    "print(\"Sum of OPW of team players is: \", np.sum(teamFormed.OPW))\n",
    "teamFormed"
   ]
  },
  {
   "cell_type": "markdown",
   "metadata": {
    "deletable": false,
    "nbgrader": {
     "checksum": "5c36b1fbfca9d9390fcc1b699c4e4029",
     "grade": true,
     "grade_id": "cell-e72ccdc28cbe75bc",
     "locked": false,
     "points": 5,
     "schema_version": 1,
     "solution": true
    }
   },
   "source": [
    "#### Your explanation here\n",
    "The players are divided into groups by their position in descending order of their OPW. After this we initialized the team with the top players in each positions. Obviously, in the beginning we are going to get the most expensive players and the sum of their salaries will be greater than 25 million. Then we start by finding the most expensive player in the team and replacing him with the next best who 'might be' cheaper than the first for that position. This is repeated until the sum of salaries fall below $25 million and then we get the best team of players. "
   ]
  },
  {
   "cell_type": "markdown",
   "metadata": {
    "deletable": false,
    "editable": false,
    "nbgrader": {
     "checksum": "c8c4e04c5cb9507cef1c599a57faf9dd",
     "grade": false,
     "grade_id": "cell-ddd8a3ae0ac391a2",
     "locked": true,
     "schema_version": 1,
     "solution": false
    }
   },
   "source": [
    "## Part 3 Classification (20 marks)"
   ]
  },
  {
   "cell_type": "markdown",
   "metadata": {
    "deletable": false,
    "editable": false,
    "nbgrader": {
     "checksum": "5d3ac205be9511803f304728ea4667ae",
     "grade": false,
     "grade_id": "cell-3ff7195267b5d9dc",
     "locked": true,
     "schema_version": 1,
     "solution": false
    }
   },
   "source": [
    "In this example we will use the [ credit card clients ](https://archive.ics.uci.edu/ml/datasets/default+of+credit+card+clients) dataset.\n",
    "\n",
    "This dataset has 24 coulmns. The last column named `DEFAULT` is the target variable which takes binary value, 1 or 0, indicating whether the client will default or not next month. Your task is **create a KNN classifier** for this dataset in Q3. You don't need to write the code to download and read the dataset as we have done this for you. You will need to work on the dataframe 'df_credit'.\n",
    "\n",
    "Description of **df_credit** dataframe\n",
    "\n",
    "Field| Description (type of values it takes)\n",
    ":---: |  :---: |\n",
    "LIMIT_BAL| Amount of the given credit\n",
    "SEX| Gender (1 = male; 2 = female). \n",
    "EDUCATION|  Education (1 = graduate school; 2 = university; 3 = high school; 4 = others)\n",
    "MARRIAGE|  Marital status (1 = married; 2 = single; 3 = others)\n",
    "AGE| Age (year)\n",
    "PAY_0| History of past payment, last month ( -1 = pay duly; 1 = payment delay for one month; 2 = payment delay for two months; . . .; 8 = payment delay for eight months; 9 = payment delay for nine months and above)\n",
    "PAY_2| History of past payment, 2 month back (same as PAY_0)\n",
    "PAY_3| History of past payment, 3 month back (same as PAY_0)\n",
    "PAY_4| History of past payment, 4 month back (same as PAY_0)\n",
    "PAY_5| History of past payment, 5 month back (same as PAY_0)\n",
    "PAY_6| History of past payment, 6 month back (same as PAY_0)\n",
    "BILL_AMT1|  Amount of bill statement, last month\n",
    "BILL_AMT2|  Amount of bill statement, 2 month back\n",
    "BILL_AMT3|  Amount of bill statement, 3 month back\n",
    "BILL_AMT4|  Amount of bill statement, 4 month back\n",
    "BILL_AMT5|  Amount of bill statement, 5 month back\n",
    "BILL_AMT6|  Amount of bill statement, 6 month back\n",
    "PAY_AMT1|  Amount of previous payment, last month\n",
    "PAY_AMT2|  Amount of previous payment, 2 month back\n",
    "PAY_AMT3|  Amount of previous payment, 3 month back\n",
    "PAY_AMT4|  Amount of previous payment, 4 month back\n",
    "PAY_AMT5|  Amount of previous payment, 5 month back\n",
    "PAY_AMT6|  Amount of previous payment, 6 month back\n",
    "DEFAULT|  Will deafult this time (Yes = 1, No = 0)\n",
    "\n",
    "\n",
    "##### You will need to create a training and test set yourself. Refer to the [lab 6](https://cs.anu.edu.au/courses/comp2420/labs/lab-6/) exercise"
   ]
  },
  {
   "cell_type": "code",
   "execution_count": 13,
   "metadata": {
    "deletable": false,
    "editable": false,
    "nbgrader": {
     "checksum": "a66b92e75ee651f26f6a9c3a7ab41850",
     "grade": false,
     "grade_id": "cell-c9aee3b9418d805c",
     "locked": true,
     "schema_version": 1,
     "solution": false
    }
   },
   "outputs": [
    {
     "data": {
      "text/html": [
       "<div>\n",
       "<style scoped>\n",
       "    .dataframe tbody tr th:only-of-type {\n",
       "        vertical-align: middle;\n",
       "    }\n",
       "\n",
       "    .dataframe tbody tr th {\n",
       "        vertical-align: top;\n",
       "    }\n",
       "\n",
       "    .dataframe thead th {\n",
       "        text-align: right;\n",
       "    }\n",
       "</style>\n",
       "<table border=\"1\" class=\"dataframe\">\n",
       "  <thead>\n",
       "    <tr style=\"text-align: right;\">\n",
       "      <th></th>\n",
       "      <th>LIMIT_BAL</th>\n",
       "      <th>SEX</th>\n",
       "      <th>EDUCATION</th>\n",
       "      <th>MARRIAGE</th>\n",
       "      <th>AGE</th>\n",
       "      <th>PAY_0</th>\n",
       "      <th>PAY_2</th>\n",
       "      <th>PAY_3</th>\n",
       "      <th>PAY_4</th>\n",
       "      <th>PAY_5</th>\n",
       "      <th>...</th>\n",
       "      <th>BILL_AMT4</th>\n",
       "      <th>BILL_AMT5</th>\n",
       "      <th>BILL_AMT6</th>\n",
       "      <th>PAY_AMT1</th>\n",
       "      <th>PAY_AMT2</th>\n",
       "      <th>PAY_AMT3</th>\n",
       "      <th>PAY_AMT4</th>\n",
       "      <th>PAY_AMT5</th>\n",
       "      <th>PAY_AMT6</th>\n",
       "      <th>DEFAULT</th>\n",
       "    </tr>\n",
       "    <tr>\n",
       "      <th>ID</th>\n",
       "      <th></th>\n",
       "      <th></th>\n",
       "      <th></th>\n",
       "      <th></th>\n",
       "      <th></th>\n",
       "      <th></th>\n",
       "      <th></th>\n",
       "      <th></th>\n",
       "      <th></th>\n",
       "      <th></th>\n",
       "      <th></th>\n",
       "      <th></th>\n",
       "      <th></th>\n",
       "      <th></th>\n",
       "      <th></th>\n",
       "      <th></th>\n",
       "      <th></th>\n",
       "      <th></th>\n",
       "      <th></th>\n",
       "      <th></th>\n",
       "      <th></th>\n",
       "    </tr>\n",
       "  </thead>\n",
       "  <tbody>\n",
       "    <tr>\n",
       "      <th>1</th>\n",
       "      <td>20000</td>\n",
       "      <td>2</td>\n",
       "      <td>2</td>\n",
       "      <td>1</td>\n",
       "      <td>24</td>\n",
       "      <td>2</td>\n",
       "      <td>2</td>\n",
       "      <td>-1</td>\n",
       "      <td>-1</td>\n",
       "      <td>-2</td>\n",
       "      <td>...</td>\n",
       "      <td>0</td>\n",
       "      <td>0</td>\n",
       "      <td>0</td>\n",
       "      <td>0</td>\n",
       "      <td>689</td>\n",
       "      <td>0</td>\n",
       "      <td>0</td>\n",
       "      <td>0</td>\n",
       "      <td>0</td>\n",
       "      <td>1</td>\n",
       "    </tr>\n",
       "    <tr>\n",
       "      <th>2</th>\n",
       "      <td>120000</td>\n",
       "      <td>2</td>\n",
       "      <td>2</td>\n",
       "      <td>2</td>\n",
       "      <td>26</td>\n",
       "      <td>-1</td>\n",
       "      <td>2</td>\n",
       "      <td>0</td>\n",
       "      <td>0</td>\n",
       "      <td>0</td>\n",
       "      <td>...</td>\n",
       "      <td>3272</td>\n",
       "      <td>3455</td>\n",
       "      <td>3261</td>\n",
       "      <td>0</td>\n",
       "      <td>1000</td>\n",
       "      <td>1000</td>\n",
       "      <td>1000</td>\n",
       "      <td>0</td>\n",
       "      <td>2000</td>\n",
       "      <td>1</td>\n",
       "    </tr>\n",
       "    <tr>\n",
       "      <th>3</th>\n",
       "      <td>90000</td>\n",
       "      <td>2</td>\n",
       "      <td>2</td>\n",
       "      <td>2</td>\n",
       "      <td>34</td>\n",
       "      <td>0</td>\n",
       "      <td>0</td>\n",
       "      <td>0</td>\n",
       "      <td>0</td>\n",
       "      <td>0</td>\n",
       "      <td>...</td>\n",
       "      <td>14331</td>\n",
       "      <td>14948</td>\n",
       "      <td>15549</td>\n",
       "      <td>1518</td>\n",
       "      <td>1500</td>\n",
       "      <td>1000</td>\n",
       "      <td>1000</td>\n",
       "      <td>1000</td>\n",
       "      <td>5000</td>\n",
       "      <td>0</td>\n",
       "    </tr>\n",
       "    <tr>\n",
       "      <th>4</th>\n",
       "      <td>50000</td>\n",
       "      <td>2</td>\n",
       "      <td>2</td>\n",
       "      <td>1</td>\n",
       "      <td>37</td>\n",
       "      <td>0</td>\n",
       "      <td>0</td>\n",
       "      <td>0</td>\n",
       "      <td>0</td>\n",
       "      <td>0</td>\n",
       "      <td>...</td>\n",
       "      <td>28314</td>\n",
       "      <td>28959</td>\n",
       "      <td>29547</td>\n",
       "      <td>2000</td>\n",
       "      <td>2019</td>\n",
       "      <td>1200</td>\n",
       "      <td>1100</td>\n",
       "      <td>1069</td>\n",
       "      <td>1000</td>\n",
       "      <td>0</td>\n",
       "    </tr>\n",
       "    <tr>\n",
       "      <th>5</th>\n",
       "      <td>50000</td>\n",
       "      <td>1</td>\n",
       "      <td>2</td>\n",
       "      <td>1</td>\n",
       "      <td>57</td>\n",
       "      <td>-1</td>\n",
       "      <td>0</td>\n",
       "      <td>-1</td>\n",
       "      <td>0</td>\n",
       "      <td>0</td>\n",
       "      <td>...</td>\n",
       "      <td>20940</td>\n",
       "      <td>19146</td>\n",
       "      <td>19131</td>\n",
       "      <td>2000</td>\n",
       "      <td>36681</td>\n",
       "      <td>10000</td>\n",
       "      <td>9000</td>\n",
       "      <td>689</td>\n",
       "      <td>679</td>\n",
       "      <td>0</td>\n",
       "    </tr>\n",
       "  </tbody>\n",
       "</table>\n",
       "<p>5 rows × 24 columns</p>\n",
       "</div>"
      ],
      "text/plain": [
       "    LIMIT_BAL  SEX  EDUCATION  MARRIAGE  AGE  PAY_0  PAY_2  PAY_3  PAY_4  \\\n",
       "ID                                                                         \n",
       "1       20000    2          2         1   24      2      2     -1     -1   \n",
       "2      120000    2          2         2   26     -1      2      0      0   \n",
       "3       90000    2          2         2   34      0      0      0      0   \n",
       "4       50000    2          2         1   37      0      0      0      0   \n",
       "5       50000    1          2         1   57     -1      0     -1      0   \n",
       "\n",
       "    PAY_5   ...     BILL_AMT4  BILL_AMT5  BILL_AMT6  PAY_AMT1  PAY_AMT2  \\\n",
       "ID          ...                                                           \n",
       "1      -2   ...             0          0          0         0       689   \n",
       "2       0   ...          3272       3455       3261         0      1000   \n",
       "3       0   ...         14331      14948      15549      1518      1500   \n",
       "4       0   ...         28314      28959      29547      2000      2019   \n",
       "5       0   ...         20940      19146      19131      2000     36681   \n",
       "\n",
       "    PAY_AMT3  PAY_AMT4  PAY_AMT5  PAY_AMT6  DEFAULT  \n",
       "ID                                                   \n",
       "1          0         0         0         0        1  \n",
       "2       1000      1000         0      2000        1  \n",
       "3       1000      1000      1000      5000        0  \n",
       "4       1200      1100      1069      1000        0  \n",
       "5      10000      9000       689       679        0  \n",
       "\n",
       "[5 rows x 24 columns]"
      ]
     },
     "execution_count": 13,
     "metadata": {},
     "output_type": "execute_result"
    }
   ],
   "source": [
    "df_credit = pd.read_hdf(os.path.join('data','df_credit.h5'))\n",
    "df_credit.head()"
   ]
  },
  {
   "cell_type": "markdown",
   "metadata": {
    "deletable": false,
    "editable": false,
    "nbgrader": {
     "checksum": "ac73a611b11c785caa84d4eaf1233753",
     "grade": false,
     "grade_id": "cell-ec6a439d48f49781",
     "locked": true,
     "schema_version": 1,
     "solution": false
    }
   },
   "source": [
    "## Q 3.1\n",
    "#### Write a **ten-fold cross validation** to estimate the optimal value for $k$ for the data set. <font color='magenta'>You need to consider only values between 20 to 50(inclusive) for $k$.</font>(10 marks) \n",
    "\n",
    "##### You will need to create a training and test set yourself. Refer to the [lab 6](https://cs.anu.edu.au/courses/comp2420/labs/lab-6/) exercise\n",
    "\n",
    "***Note*** Keep in mind optimal value of $k$ depends on $d$, where $d$ is the number of features used."
   ]
  },
  {
   "cell_type": "code",
   "execution_count": 14,
   "metadata": {
    "deletable": false,
    "nbgrader": {
     "checksum": "c18d99c46a05593581dc9fd64f74293f",
     "grade": true,
     "grade_id": "cell-238c1003bd3cb6f0",
     "locked": false,
     "points": 10,
     "schema_version": 1,
     "solution": true
    },
    "scrolled": false
   },
   "outputs": [
    {
     "name": "stdout",
     "output_type": "stream",
     "text": [
      "Best value for K is  25\n"
     ]
    },
    {
     "data": {
      "image/png": "[encoded data removed]",
      "text/plain": [
       "<matplotlib.figure.Figure at 0x7fe4ebb7a2b0>"
      ]
     },
     "metadata": {},
     "output_type": "display_data"
    }
   ],
   "source": [
    "# YOUR CODE HERE\n",
    "X = df_credit[['PAY_0','PAY_2','PAY_3','PAY_4','PAY_5','PAY_6']]\n",
    "Y = df_credit.DEFAULT\n",
    "X_train, X_test, Y_train, Y_test = train_test_split(X, Y, test_size=0.33)\n",
    "performance = []\n",
    "k_set = [i for i in range(20,50+1)]\n",
    "for k in k_set:\n",
    "    knn_model = KNeighborsClassifier(n_neighbors=k)\n",
    "    score = cross_val_score(knn_model, X_train, Y_train, cv=10, scoring=make_scorer(mean_squared_error))\n",
    "    performance.append(np.mean(score))\n",
    "    \n",
    "# plotting these scores\n",
    "plt.figure(figsize=(10,8))\n",
    "ax = plt.subplot(111)\n",
    "ax.plot(k_set, performance)\n",
    "ax.set_xlabel(\"K\", fontsize=22)\n",
    "ax.set_ylabel(\"MSE\",fontsize=22)\n",
    "ax.set_title(\"CV score (MSE) for different K\",fontsize=24)\n",
    "ax.set_xticklabels(ax.get_xticks(),fontsize=14)\n",
    "ax.set_yticklabels(ax.get_yticks(),fontsize=14)\n",
    "sns.despine()\n",
    "\n",
    "print(\"Best value for K is \",k_set[np.argmin(performance)])\n",
    "# raise NotImplementedError()"
   ]
  },
  {
   "cell_type": "markdown",
   "metadata": {
    "deletable": false,
    "editable": false,
    "nbgrader": {
     "checksum": "be5d9db1d6f154e6a287fffac738f3de",
     "grade": false,
     "grade_id": "cell-369deebe8768078e",
     "locked": true,
     "schema_version": 1,
     "solution": false
    }
   },
   "source": [
    "## Q 3.2 \n",
    "#### Create a boxplot showing training scores for the optimal $k$ for each $d$-dimensional subspace with $d$ ranging from one to 23. <font color='magenta'>You need to consider only values between 20 to 50 (inclusive) for $k$.</font> (5 marks)\n",
    "The plot should have the scores on the y-axis and the different dimensions $d$ on the x-axis. You should increase the features incrementally -- this exercise needs you to start from one feature and increase the number of features to 23 incrementally."
   ]
  },
  {
   "cell_type": "code",
   "execution_count": 15,
   "metadata": {
    "scrolled": true
   },
   "outputs": [
    {
     "data": {
      "text/plain": [
       "ID\n",
       "1    1\n",
       "Name: DEFAULT, dtype: int64"
      ]
     },
     "execution_count": 15,
     "metadata": {},
     "output_type": "execute_result"
    }
   ],
   "source": [
    "df_credit.iloc[:,23].head(1)"
   ]
  },
  {
   "cell_type": "code",
   "execution_count": 16,
   "metadata": {},
   "outputs": [
    {
     "data": {
      "text/html": [
       "<div>\n",
       "<style scoped>\n",
       "    .dataframe tbody tr th:only-of-type {\n",
       "        vertical-align: middle;\n",
       "    }\n",
       "\n",
       "    .dataframe tbody tr th {\n",
       "        vertical-align: top;\n",
       "    }\n",
       "\n",
       "    .dataframe thead th {\n",
       "        text-align: right;\n",
       "    }\n",
       "</style>\n",
       "<table border=\"1\" class=\"dataframe\">\n",
       "  <thead>\n",
       "    <tr style=\"text-align: right;\">\n",
       "      <th></th>\n",
       "      <th>PAY_0</th>\n",
       "      <th>PAY_2</th>\n",
       "      <th>PAY_3</th>\n",
       "      <th>PAY_4</th>\n",
       "    </tr>\n",
       "    <tr>\n",
       "      <th>ID</th>\n",
       "      <th></th>\n",
       "      <th></th>\n",
       "      <th></th>\n",
       "      <th></th>\n",
       "    </tr>\n",
       "  </thead>\n",
       "  <tbody>\n",
       "    <tr>\n",
       "      <th>10503</th>\n",
       "      <td>0</td>\n",
       "      <td>0</td>\n",
       "      <td>0</td>\n",
       "      <td>0</td>\n",
       "    </tr>\n",
       "    <tr>\n",
       "      <th>18060</th>\n",
       "      <td>-1</td>\n",
       "      <td>-1</td>\n",
       "      <td>-1</td>\n",
       "      <td>-1</td>\n",
       "    </tr>\n",
       "  </tbody>\n",
       "</table>\n",
       "</div>"
      ],
      "text/plain": [
       "       PAY_0  PAY_2  PAY_3  PAY_4\n",
       "ID                               \n",
       "10503      0      0      0      0\n",
       "18060     -1     -1     -1     -1"
      ]
     },
     "execution_count": 16,
     "metadata": {},
     "output_type": "execute_result"
    }
   ],
   "source": [
    "X_train.iloc[:,:4].head(2)"
   ]
  },
  {
   "cell_type": "code",
   "execution_count": 17,
   "metadata": {
    "deletable": false,
    "nbgrader": {
     "checksum": "de7c087733197f735d9bc1c5293ef09a",
     "grade": true,
     "grade_id": "cell-59cf95f91b2d5884",
     "locked": false,
     "points": 5,
     "schema_version": 1,
     "solution": true
    }
   },
   "outputs": [
    {
     "name": "stdout",
     "output_type": "stream",
     "text": [
      "1,2,3,4,5,6,7,8,9,10,11,12,13,14,15,16,17,18,19,20,21,22,23,\n"
     ]
    },
    {
     "data": {
      "text/plain": [
       "[Text(0,0,'(1, 30)'),\n",
       " Text(0,0,'(2, 36)'),\n",
       " Text(0,0,'(3, 44)'),\n",
       " Text(0,0,'(4, 42)'),\n",
       " Text(0,0,'(5, 50)'),\n",
       " Text(0,0,'(6, 21)'),\n",
       " Text(0,0,'(7, 21)'),\n",
       " Text(0,0,'(8, 21)'),\n",
       " Text(0,0,'(9, 23)'),\n",
       " Text(0,0,'(10, 21)'),\n",
       " Text(0,0,'(11, 21)'),\n",
       " Text(0,0,'(12, 40)'),\n",
       " Text(0,0,'(13, 49)'),\n",
       " Text(0,0,'(14, 48)'),\n",
       " Text(0,0,'(15, 36)'),\n",
       " Text(0,0,'(16, 44)'),\n",
       " Text(0,0,'(17, 50)'),\n",
       " Text(0,0,'(18, 46)'),\n",
       " Text(0,0,'(19, 48)'),\n",
       " Text(0,0,'(20, 46)'),\n",
       " Text(0,0,'(21, 48)'),\n",
       " Text(0,0,'(22, 38)'),\n",
       " Text(0,0,'(23, 48)')]"
      ]
     },
     "execution_count": 17,
     "metadata": {},
     "output_type": "execute_result"
    },
    {
     "data": {
      "image/png": "[encoded data removed]",
      "text/plain": [
       "<matplotlib.figure.Figure at 0x7fe4eba68780>"
      ]
     },
     "metadata": {},
     "output_type": "display_data"
    }
   ],
   "source": [
    "# YOUR CODE HERE\n",
    "\n",
    "print()\n",
    "# Create a figure instance\n",
    "fig = plt.figure(1, figsize=(18, 12))\n",
    "# Create an axes instance\n",
    "ax = fig.add_subplot(111)\n",
    "# Create the boxplot\n",
    "bp = ax.boxplot(optimal)\n",
    "ax.set_xticklabels(list(pair.values()))\n",
    "# raise NotImplementedError()"
   ]
  },
  {
   "cell_type": "markdown",
   "metadata": {
    "deletable": false,
    "editable": false,
    "nbgrader": {
     "checksum": "619d27bd4ad42f39704dd547c105a97d",
     "grade": false,
     "grade_id": "cell-901d669db9f55c1a",
     "locked": true,
     "schema_version": 1,
     "solution": false
    }
   },
   "source": [
    "## Q 3.3\n",
    "\n",
    "#### Evaluate your performance on test set with best ($k$,$d$) pair. (5 marks)\n",
    "\n",
    "Additionally, write a brief discussion of your conclusions to the questions and tasks in Q3.1 and Q3.2 in 100 words or less each."
   ]
  },
  {
   "cell_type": "code",
   "execution_count": 18,
   "metadata": {
    "deletable": false,
    "nbgrader": {
     "checksum": "4e16275563758259ce924d35ed592854",
     "grade": true,
     "grade_id": "cell-09b682d20897827c",
     "locked": false,
     "points": 2.5,
     "schema_version": 1,
     "solution": true
    }
   },
   "outputs": [
    {
     "name": "stdout",
     "output_type": "stream",
     "text": [
      "Best k and d are:  21 11\n",
      "Fit a model X_train, and calculate MSE with Y_train: 0.19895522388059703\n",
      "Fit a model X_train, and calculate MSE with X_test, Y_test: 0.19646464646464645\n"
     ]
    }
   ],
   "source": [
    "# YOUR CODE HERE\n",
    "k, d = best\n",
    "Y_train_i = Y_train\n",
    "X_train_i = X_train[columns[:d]]\n",
    "Y_test_i = Y_test\n",
    "X_test_i = X_test[columns[:d]]\n",
    "knn_model = KNeighborsClassifier(n_neighbors=k)\n",
    "knn_model.fit(X_train_i, Y_train_i)\n",
    "score = knn_model.score(X_test_i, Y_test_i)\n",
    "score1 = np.mean((Y_train_i - knn_model.predict(X_train_i)) ** 2)\n",
    "score2 = np.mean((Y_test_i - knn_model.predict(X_test_i)) ** 2)\n",
    "print(\"Best k and d are: \", k, d)\n",
    "print(\"Fit a model X_train, and calculate MSE with Y_train:\", np.mean((Y_train_i - knn_model.predict(X_train_i)) ** 2))\n",
    "print(\"Fit a model X_train, and calculate MSE with X_test, Y_test:\", np.mean((Y_test_i - knn_model.predict(X_test_i)) ** 2))\n",
    "# raise NotImplementedError()"
   ]
  },
  {
   "cell_type": "markdown",
   "metadata": {
    "deletable": false,
    "nbgrader": {
     "checksum": "40ff50ba6132b70f5702472abef5429b",
     "grade": true,
     "grade_id": "cell-4578d93d7e22077d",
     "locked": false,
     "points": 2.5,
     "schema_version": 1,
     "solution": true
    }
   },
   "source": [
    "We can see that the Mean-Squared error for both when our knn model predicts the X_train_i values and X_test_i values is very low. It comes out to be 0.198955 for training set and 0.19646 for testing set.\n",
    "Question 3.2: The value selected in Q3.3 can be verified from the box plot drawn in Q3.2 where the d = 11 dimensions gives the highest score for the training set.\n",
    "Question 3.1: We can see from the box plot that the highest score is reached when we start including columns 6 to 11 with each column added giving better and better results in general. This shows that PAY_X are the columns that are best at predicting Default values and for this reason these columns have been used in Question 3.1. The figure plotted in this questions shows that the best value of k is 37 which gives an MSE of around 0.17825 which is the lowest we have gotten so far even lower than if you include all columns from starting to the best k, d from 3.2."
   ]
  },
  {
   "cell_type": "markdown",
   "metadata": {
    "deletable": false,
    "editable": false,
    "nbgrader": {
     "checksum": "607fd04b27140a0093f5ee5f39594db0",
     "grade": false,
     "grade_id": "cell-1616b549d3cc4b35",
     "locked": true,
     "schema_version": 1,
     "solution": false
    }
   },
   "source": [
    "## Part 4 K-Means (10 marks)"
   ]
  },
  {
   "cell_type": "markdown",
   "metadata": {
    "deletable": false,
    "editable": false,
    "nbgrader": {
     "checksum": "fb31ef6d5bc653b43d1b0610a7ce2c27",
     "grade": false,
     "grade_id": "cell-90e26c994e0bf556",
     "locked": true,
     "schema_version": 1,
     "solution": false
    }
   },
   "source": [
    "We will use the standard [breast cancer data set](http://scikit-learn.org/stable/modules/generated/sklearn.datasets.load_breast_cancer.html), from sklearn. We have already loaded the datset for you. $X$ contains all the features."
   ]
  },
  {
   "cell_type": "code",
   "execution_count": 19,
   "metadata": {
    "collapsed": true,
    "deletable": false,
    "editable": false,
    "nbgrader": {
     "checksum": "a5d0223cd400fd3242fe561ddc39c95a",
     "grade": false,
     "grade_id": "cell-6d42d93e68882109",
     "locked": true,
     "schema_version": 1,
     "solution": false
    }
   },
   "outputs": [],
   "source": [
    "breast_cancer = datasets.load_breast_cancer()\n",
    "X = scale(breast_cancer.data)"
   ]
  },
  {
   "cell_type": "markdown",
   "metadata": {
    "deletable": false,
    "editable": false,
    "nbgrader": {
     "checksum": "e098e3334e36425bb6639ab6dc445deb",
     "grade": false,
     "grade_id": "cell-700abab4e616a887",
     "locked": true,
     "schema_version": 1,
     "solution": false
    }
   },
   "source": [
    "## Q 4.1 \n",
    "#### Implement K-Means clustering for digits data. (10 marks) <font color='red'>slightly hard</font>\n",
    "\n",
    "Complete the function kmeans below.\n",
    " \n",
    "***Note:*** \n",
    "- You are **not allowed** to use any of the **sklearn's pre-implemented algorithms or functions**. \n",
    "- You are **not allowed** to use any pre-implemented **k-means** algorithm from **any module** .\n",
    "- You **should** use the **numpy** library to do matrix operations and calculations.\n",
    "- <font color='magenta'> You **should** use some smart ways for initializations.</font>"
   ]
  },
  {
   "cell_type": "code",
   "execution_count": 20,
   "metadata": {
    "collapsed": true,
    "deletable": false,
    "nbgrader": {
     "checksum": "c9023d27db106ffa00aa92fe66a85b2f",
     "grade": true,
     "grade_id": "cell-fe0a40c3c81ef91d",
     "locked": false,
     "points": 10,
     "schema_version": 1,
     "solution": true
    }
   },
   "outputs": [],
   "source": [
    "def kmeans(X, n_cluster, random_seed=2, n_init=100):\n",
    "    '''\n",
    "    Function calculates the centroids after performing k-means on the given dataset. \n",
    "    Function returns two values new calculated centers and labels for each datapoint.\n",
    "    If we have n_cluster = 4 then labels from algorithm will correspond to values 0,1,2 and 3\n",
    "    \n",
    "    Args:\n",
    "        X: np.array representing set of input data\n",
    "        n_cluster: number of clusters to use for clustering\n",
    "        random_seed: random seed to use for calling random function in numpy\n",
    "        n_inint: max number of iterations to use for k-means\n",
    "    Returns:\n",
    "        centers: np.array representing the centers for n_clusters\n",
    "        labels: np.array containing a label for each datapoint in X\n",
    "    '''\n",
    "    # Removing outliers assuming a normal distribution\n",
    "    Q1 = np.percentile(X, 25, axis=0)\n",
    "    Q3 = np.percentile(X, 75, axis=0)\n",
    "    IQR = Q3 - Q1\n",
    "    filtered_X = np.array([x for x in X if all((Q1-1.5*IQR<x) & (x<Q3+1.5*IQR))])\n",
    "    labels = np.zeros(X.shape[0]) \n",
    "    listCenters = []\n",
    "    minDist = 0\n",
    "    # After removing outilers, we select the centroids generated randomly\n",
    "    # that where the minimum distance between them is maximum. This ensures\n",
    "    # that our outliers cover a good proportion of the data set.\n",
    "    for i in range(0,10):\n",
    "        rnd = np.random.RandomState(random_seed+i)\n",
    "        i = rnd.permutation(filtered_X.shape[0])[:n_cluster]\n",
    "        initial = filtered_X[i]\n",
    "        d = distance_matrix(initial, initial)\n",
    "        np.place(d, d==0, [np.Infinity])\n",
    "        if (np.min(d) > minDist):\n",
    "            minDist = np.min(d)\n",
    "            centers = initial\n",
    "    for i in range(0,n_init):\n",
    "        # Reassignment\n",
    "        distances = np.sqrt(((X - centers[:, np.newaxis])**2).sum(axis=2))\n",
    "        closest = np.argmin(distances, axis=0)\n",
    "        labels = closest\n",
    "        # Recomputation\n",
    "        centers = np.array([X[closest==k].mean(axis=0) for k in range(centers.shape[0])])\n",
    "\n",
    "        \n",
    "    return centers,labels\n",
    "\n",
    "## change the parameters of the function call to test your implementation\n",
    "centers, labels = kmeans(X,n_cluster=4, random_seed=4, n_init=300)"
   ]
  },
  {
   "cell_type": "code",
   "execution_count": 21,
   "metadata": {},
   "outputs": [
    {
     "data": {
      "text/plain": [
       "<matplotlib.collections.PathCollection at 0x7fe4e61be4e0>"
      ]
     },
     "execution_count": 21,
     "metadata": {},
     "output_type": "execute_result"
    },
    {
     "data": {
      "image/png": "[encoded data removed]",
      "text/plain": [
       "<matplotlib.figure.Figure at 0x7fe4e72e69e8>"
      ]
     },
     "metadata": {},
     "output_type": "display_data"
    }
   ],
   "source": [
    "## optional :You can write a code to visualize or check your algorithm here\n",
    "points = np.vstack(((np.random.randn(150, 2) * 0.75 + np.array([1, 0])), \\\n",
    "                    (np.random.randn(50, 2) * 0.25 + np.array([-0.5, 0.5])), \\\n",
    "                    (np.random.randn(50, 2) * 0.5 + np.array([-0.5, -0.5]))))\n",
    "plt.scatter(points[:, 0], points[:, 1])\n",
    "ax = plt.gca()\n",
    "centroids, labels = kmeans(points, 2, n_init=200)\n",
    "plt.scatter(centroids[:, 0], centroids[:, 1], c='r', s=100)"
   ]
  },
  {
   "cell_type": "markdown",
   "metadata": {
    "deletable": false,
    "editable": false,
    "nbgrader": {
     "checksum": "fab53d843afdb4590a9bdc5c710e462e",
     "grade": false,
     "grade_id": "cell-76698eb980289c80",
     "locked": true,
     "schema_version": 1,
     "solution": false
    }
   },
   "source": [
    "## Part 5 Decision Trees (10 marks)"
   ]
  },
  {
   "cell_type": "markdown",
   "metadata": {},
   "source": [
    "The following is a small synthetic data set about the weather conditions.  We are\n",
    "going to try and use decision trees to predict whether it will rain or not on the given day.\n",
    "\n",
    "\n",
    "|Temperature| Cloudy| UV Index| Humidity| Rain\n",
    "|---:|--:|--:|--:|--:|\n",
    "|25|No| Low| Low| No \n",
    "|29|No| Low| High| No\n",
    "|26|No| Low| Medium| No\n",
    "|26|No| Medium| Medium| No\n",
    "|27|No| Medium| High| No\n",
    "|28|No| High | High| No\n",
    "|25|No| High |Low| No\n",
    "|29|Yes| Low |Low| Yes\n",
    "|28|No| Medium| High| Yes\n",
    "|28|Yes| Medium| High| Yes\n",
    "|26|No| Low |Low| Yes\n",
    "|27|Yes| Low |High| Yes\n",
    "\n",
    "**Note:**\n",
    "* You can treat temperature as a continuous variable and split on a range of age values.\n",
    "* Attribute selection in the tree uses information gain "
   ]
  },
  {
   "cell_type": "markdown",
   "metadata": {
    "deletable": false,
    "editable": false,
    "nbgrader": {
     "checksum": "9b44bdf1ae62acb081644266577395fd",
     "grade": false,
     "grade_id": "cell-ffd88c19387bedd8",
     "locked": true,
     "schema_version": 1,
     "solution": false
    }
   },
   "source": [
    "## Q 5.1\n",
    "#### What is the initial entropy of Rain?  (2 marks)\n"
   ]
  },
  {
   "cell_type": "markdown",
   "metadata": {
    "deletable": false,
    "nbgrader": {
     "checksum": "76b1ff3c2e714fa30a1dc368dbe63570",
     "grade": true,
     "grade_id": "cell-d35db412731c2d6a",
     "locked": false,
     "points": 2,
     "schema_version": 1,
     "solution": true
    }
   },
   "source": [
    "The entropy is calculated as -7/12log(7/12)-5/12log(5/12) which is equal to  0.98"
   ]
  },
  {
   "cell_type": "markdown",
   "metadata": {
    "deletable": false,
    "editable": false,
    "nbgrader": {
     "checksum": "5efa30af43b173902056b73e7b539158",
     "grade": false,
     "grade_id": "cell-e2089d98927f298e",
     "locked": true,
     "schema_version": 1,
     "solution": false
    }
   },
   "source": [
    "## Q 5.2\n",
    "#### Which attribute would the decision-tree building algorithm choose at the root of the tree?   (2 marks)\n",
    "\n",
    "Choose one through inspection and explain your reasoning in a sentence. "
   ]
  },
  {
   "cell_type": "markdown",
   "metadata": {
    "deletable": false,
    "nbgrader": {
     "checksum": "acc40041822bf5459c18f6e4553a4530",
     "grade": true,
     "grade_id": "cell-6468810f6c59c07b",
     "locked": false,
     "points": 2,
     "schema_version": 1,
     "solution": true
    }
   },
   "source": [
    "Cloudy would be the attribute choosen by decision-tree as it would give the purest splits. For all the 'Yes' values of Cloudy there is always 'yes' in Rain and for 'No' there is either 'Yes' or 'No'"
   ]
  },
  {
   "cell_type": "markdown",
   "metadata": {
    "deletable": false,
    "editable": false,
    "nbgrader": {
     "checksum": "3091e15da3fa10bc5035834f9ef0c1a0",
     "grade": false,
     "grade_id": "cell-ce4e040dba4e8f1e",
     "locked": true,
     "schema_version": 1,
     "solution": false
    }
   },
   "source": [
    "## Q 5.3\n",
    "#### Calculate and specify the information gain of the attribute you chose to split on in the previous question.  (3 marks)"
   ]
  },
  {
   "cell_type": "markdown",
   "metadata": {
    "deletable": false,
    "nbgrader": {
     "checksum": "1357169a2a652f05982b3dd7d4b577d8",
     "grade": true,
     "grade_id": "cell-b6dd5db337ee2270",
     "locked": false,
     "points": 3,
     "schema_version": 1,
     "solution": true
    }
   },
   "source": [
    "Information gain is coming out to be : 0.8113 - 0.4046 = 0.4067 which is a good measure and thus cloudy can be used.\n",
    "H(cloudy|Rain) = -7/12*log2(7/12) - 5/12*log2(5/12) -3/12*log2(3/12)"
   ]
  },
  {
   "cell_type": "markdown",
   "metadata": {
    "deletable": false,
    "editable": false,
    "nbgrader": {
     "checksum": "7b8d42557fcfb76ba5d07344aa5ab6f2",
     "grade": false,
     "grade_id": "cell-d23ce05a8408dbcd",
     "locked": true,
     "schema_version": 1,
     "solution": false
    }
   },
   "source": [
    "## Q 5.4\n",
    "\n",
    "#### Consider a decision tree built from an arbitrary set of data. If the output is binary, what is the maximum training set error for this dataset? Explain your answer. (Please note that this is the error on the same dataset the tree was trained on.  A new test set could have arbitrary errors.) (3 marks) <font color='red'>slightly hard</font>"
   ]
  },
  {
   "cell_type": "markdown",
   "metadata": {
    "deletable": false,
    "nbgrader": {
     "checksum": "3a93d2811aaa1d696d03d59fc1f2df65",
     "grade": true,
     "grade_id": "cell-c422bac72cc05fc9",
     "locked": false,
     "points": 3,
     "schema_version": 1,
     "solution": true
    }
   },
   "source": [
    "The maximum error would occur when all the rows selected from the data have equal number of output for each of the binary output whereas only one value of the input attribute. In this case the error would be 0.5 or 50%. For example consider we have the following table\n",
    "\n",
    "|**Engine Type**         |**Car Type**\n",
    "|--------------------------|--------\n",
    "|  I4 |  Hatchback\n",
    "|  V6 |  Sedan\n",
    "|  I4 |  Hatchback\n",
    "|  I4 |  Hatchback\n",
    "|  V6 |  Sedan\n",
    "|  I4 |  Sedan\n",
    "|  I4 |  Sedan\n",
    "|  I4 |  Sedan\n",
    "\n",
    "If only the rows that have 'I4' as the engine type are selected than the decision tree would either classify a car as Hatchback or Sedan resulting in a 50% error either way for this training data."
   ]
  },
  {
   "cell_type": "code",
   "execution_count": null,
   "metadata": {
    "collapsed": true
   },
   "outputs": [],
   "source": []
  }
 ],
 "metadata": {
  "kernelspec": {
   "display_name": "Python 3",
   "language": "python",
   "name": "python3"
  },
  "language_info": {
   "codemirror_mode": {
    "name": "ipython",
    "version": 3
   },
   "file_extension": ".py",
   "mimetype": "text/x-python",
   "name": "python",
   "nbconvert_exporter": "python",
   "pygments_lexer": "ipython3",
   "version": "3.6.1"
  }
 },
 "nbformat": 4,
 "nbformat_minor": 2
}
