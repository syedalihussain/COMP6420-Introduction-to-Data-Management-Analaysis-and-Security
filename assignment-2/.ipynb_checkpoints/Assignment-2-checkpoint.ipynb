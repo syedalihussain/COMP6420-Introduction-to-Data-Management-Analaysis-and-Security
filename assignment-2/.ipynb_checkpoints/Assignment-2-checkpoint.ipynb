{
 "cells": [
  {
   "cell_type": "markdown",
   "metadata": {
    "deletable": false,
    "editable": false,
    "nbgrader": {
     "checksum": "ea86161affbcc267a5b378b5683fd782",
     "grade": false,
     "grade_id": "cell-99916ddfe38345b0",
     "locked": true,
     "schema_version": 1,
     "solution": false
    }
   },
   "source": [
    "# COMP2420/6420 - Introduction to Data Management, Analysis and Security\n",
    "\n",
    "\n",
    "### Australian National University\n",
    "\n",
    "### College of Engineering and Computer Science"
   ]
  },
  {
   "cell_type": "markdown",
   "metadata": {
    "deletable": false,
    "editable": false,
    "nbgrader": {
     "checksum": "a482bc87b8a19a2c2a802961f82d9a3a",
     "grade": false,
     "grade_id": "cell-1542f29108f81469",
     "locked": true,
     "schema_version": 1,
     "solution": false
    }
   },
   "source": [
    "Assignment 2 \n",
    "============\n",
    "\n",
    "  \n",
    "|**Maximum marks**         |**100**\n",
    "|--------------------------|--------\n",
    "|  **Weight**              |  **15% of the total marks for the course**\n",
    "|  **Submission deadline** |  **5pm, Thursday, April 26**\n",
    "|  **Submission mode**     |  **Electronic, using wattle**\n",
    "|  **Estimated time**      |  **15 hours**\n",
    "|  **Penalty**             |  **100% after the deadline**\n",
    "  \n"
   ]
  },
  {
   "cell_type": "markdown",
   "metadata": {
    "deletable": false,
    "editable": false,
    "nbgrader": {
     "checksum": "e9029c8ce4a27bb6c51e1fe695b8e76e",
     "grade": false,
     "grade_id": "cell-5c478a1da9af6be1",
     "locked": true,
     "schema_version": 1,
     "solution": false
    }
   },
   "source": [
    "# Submission\n",
    "\n",
    "You need to submit the notebook `Assignment-2.ipynb` as part of your submission on wattle. You need to add your group and student details below. Remember your filename should be exact as given below. Any changes to file name would mean your file can't be graded by the auto=grader, resulting in zero marks.\n",
    "\n",
    "**Note**\n",
    "\n",
    "* For answers requiring free form written text, use designated cells denoted by `YOUR ANSWER HERE`, just double click and start writing inside them.\n",
    "* For all coding questions please write your code after the comment `YOUR CODE HERE`.\n",
    "* After inserting your code **please remove** the following line from each code cell `raise NotImplementedError()`.\n",
    "* To test your code, you can insert more cells or some print statements, but while submitting the file remember to remove those extra cells and print statements.\n",
    "* We have marked some questions with a tag **hard** and **slightly hard**, so that you can plan your time accordingly\n",
    "* We advice students to skip Q1 and use our cleaned dataset if they struggle with it. You can always come back after finishing all other questions."
   ]
  },
  {
   "cell_type": "markdown",
   "metadata": {},
   "source": [
    "###### Group Name : 218\n",
    "### Student Id1: u6028474\n",
    "### Student Id2: u6161780"
   ]
  },
  {
   "cell_type": "code",
   "execution_count": 1,
   "metadata": {
    "collapsed": true,
    "deletable": false,
    "editable": false,
    "nbgrader": {
     "checksum": "627ff273386ae024585b5a14472b22ee",
     "grade": false,
     "grade_id": "cell-03f48872d35f249a",
     "locked": true,
     "schema_version": 1,
     "solution": false
    }
   },
   "outputs": [],
   "source": [
    "import json\n",
    "import os \n",
    "import numpy as np\n",
    "import pandas as pd\n",
    "import seaborn as sns\n",
    "import matplotlib.pyplot as plt\n",
    "plt.style.use('seaborn-notebook')\n",
    "## inline figures\n",
    "%matplotlib inline"
   ]
  },
  {
   "cell_type": "markdown",
   "metadata": {
    "deletable": false,
    "editable": false,
    "nbgrader": {
     "checksum": "9f0303085373177ff91aba5485da9b4e",
     "grade": false,
     "grade_id": "cell-b1cb4dd43aa9d87e",
     "locked": true,
     "schema_version": 1,
     "solution": false
    }
   },
   "source": [
    "## Q1 [15 marks]\n",
    "\n",
    "Complete the  function `read_json(directory)` to read all the tweets from the folder `data/yt_tweets` into a single dataframe. There is more than one file inside the folder. Your function must take as an argument the data folder where all the files are kept and should return a single dataframe. Make sure you read only `.json` files in the folder.\n",
    "\n",
    "Each line in the files corresponds to a tweet, where the structure for a tweet is encoded as a `json` object. The details about a [tweet](https://developer.twitter.com/en/docs/tweets/data-dictionary/overview/tweet-object) object as given by [Twitter](https://twitter.com/?lang=en) can be found on their [developer page](https://developer.twitter.com/en/docs/tweets/data-dictionary/overview/tweet-object).\n",
    "\n",
    "You need to write a function that extracts the following details into a dataframe from a tweet:\n",
    "\n",
    "* creation date (datetime for tweet)\n",
    "* id_str (unique id of the tweet)\n",
    "* user_id_str (unique id of the user who tweeted the tweet)\n",
    "* retweeted_id (if it's a retweet, unique id of the tweet it is retweet of else np.nan)\n",
    "* user_followers (no.of followers of the user who tweeted)\n",
    "* user_friends (no.of friends of the user who tweeted)\n",
    "* number of user mentions in the tweet (no.of user mentions in the tweet)\n",
    "* number of hashtags in the tweet (no.of hashtags in the tweet)\n",
    "* language of tweet (language of the tweet) \n",
    "* language of user (language of the user) \n",
    "* name of place where tweet originated (if exists name of the place where tweet originated from. use field name not full_name)\n",
    "\n",
    "\n",
    "**Note:**\n",
    "* The column names for your dataframe should be following:  \n",
    "**['time_created', 'twid', 'user_id', 'rtwid', '#followers', '#friends', '#mentions', '#hashtags','lang_tweet', 'lang_user', 'place']**\n",
    "* All invalid/non-existent column values should take numpy value NaN (np.NaN) (Look at exercise 4 of [lab 4](https://cs.anu.edu.au/courses/comp2420/labs/lab-4/))\n",
    "* The datatypes of your dataframe should be exactly as follows, only excpetion is using int32 if your OS doesnt support int64:\n",
    "\n",
    "|Column|Data type|\n",
    "|------|---------|\n",
    "|time_created|    datetime64[ns]|\n",
    "|twid        |            object|\n",
    "|user_id     |            object|\n",
    "|rtwid       |            object|\n",
    "|#followers  |             int64|\n",
    "|#friends    |             int64|\n",
    "|#mentions   |             int64|\n",
    "|#hashtags   |             int64|\n",
    "|lang_tweet  |            object|\n",
    "|lang_user   |            object|\n",
    "|place       |            object|\n"
   ]
  },
  {
   "cell_type": "code",
   "execution_count": 2,
   "metadata": {
    "collapsed": true,
    "deletable": false,
    "nbgrader": {
     "checksum": "9ef453af4d5af065d1d70884d4218590",
     "grade": false,
     "grade_id": "cell-dd59a272865336c7",
     "locked": false,
     "schema_version": 1,
     "solution": true
    }
   },
   "outputs": [],
   "source": [
    "\n",
    "def read_json(directory):\n",
    "    \"\"\"Reads a json file and returns a list of tweets in it.\n",
    "    Each tweet contains it's creation date, id_str, user_id_str, user_followers, retweeted_status\n",
    "    Field retweeted_status either has id of the tweet which this tweet has retweeted or id same as the tweet id\n",
    "    indicating the tweet is not a retweet.\n",
    "    \n",
    "    Args:\n",
    "        filename: name of the file to be read\n",
    "    \n",
    "    Returns:\n",
    "        list: a list with all tweets in the file\n",
    "        \n",
    "    \"\"\"\n",
    "    \n",
    "    # YOUR CODE HERE\n",
    "    import glob\n",
    "    import json\n",
    "    files = glob.glob(directory + \"/*.json\")\n",
    "    tweets = []\n",
    "    for obj in files:\n",
    "        file = open(obj)\n",
    "        for line in file:\n",
    "            ## if somehow a tweet is not well formed, always can be a case in real world data\n",
    "            try:\n",
    "                jobj = json.loads(line)\n",
    "\n",
    "                # time created\n",
    "                try:\n",
    "                    time_created = jobj[u'created_at']\n",
    "                except:\n",
    "                    time_created = np.nan\n",
    "\n",
    "                # id_str of the tweet\n",
    "                try:\n",
    "                    twid_str = jobj[u'id_str']\n",
    "                except:\n",
    "                    twid_str = np.nan\n",
    "\n",
    "                # user_id_str\n",
    "                try:\n",
    "                    user_id_str = jobj[u'user'][u'id_str']\n",
    "                except:\n",
    "                    user_id_str = np.nan\n",
    "\n",
    "                # retweeted status\n",
    "                if u'retweeted_status' in jobj:\n",
    "                    try:\n",
    "                        rtwid_str = jobj[u'retweeted_status']['id_str']\n",
    "                    except:\n",
    "                        rtwid_str = np.nan\n",
    "                else:\n",
    "                    rtwid_str = twid_str\n",
    "\n",
    "                # followers count\n",
    "                try:\n",
    "                    followers_count = jobj[u'user'][u'followers_count']\n",
    "                except:\n",
    "                    followers_count = np.nan\n",
    "\n",
    "                # friends count\n",
    "                try:\n",
    "                    friends_count = jobj[u'user'][u'friends_count']\n",
    "                except:\n",
    "                    friends_count = np.nan\n",
    "\n",
    "                # User mentions count\n",
    "                try:\n",
    "                    mentions = jobj[u'entities'][u'user_mentions']\n",
    "                    mention_count = len(mentions)\n",
    "                except:\n",
    "                    mention_count = np.nan\n",
    "                try:\n",
    "                    hashtag_count = len(jobj[u'entities'][u'hashtags'])\n",
    "                except:\n",
    "                    hashtag_count = np.nan\n",
    "\n",
    "                # language of the tweet\n",
    "                try:\n",
    "                    lang_tweet = jobj[u'lang']\n",
    "                except:\n",
    "                    lang_tweet = np.nan\n",
    "\n",
    "                # language of the user\n",
    "                try:\n",
    "                    lang_user = jobj[u'user'][u'lang']\n",
    "                except:\n",
    "                    lang_user = np.nan\n",
    "\n",
    "                # place\n",
    "                try:\n",
    "                    place = jobj[u'place'][u'name']\n",
    "                except:\n",
    "                    place = np.nan\n",
    "\n",
    "            except:\n",
    "                timeCreated = np.nan\n",
    "                twid_str = np.nan\n",
    "                user_id_str = np.nan\n",
    "                rtwid_str = np.nan\n",
    "                followers_count = np.nan\n",
    "                friends_count = np.nan\n",
    "                mention_count = np.nan\n",
    "                hashtag_count = np.nan\n",
    "                lang_tweet = np.nan\n",
    "                lang_user = np.nan\n",
    "                place = np.nan\n",
    "\n",
    "            tweet = [time_created, twid_str,user_id_str, rtwid_str, followers_count, friends_count, mention_count, \\\n",
    "                     hashtag_count, lang_tweet, lang_user, place]\n",
    "            tweets.append(tweet)\n",
    "    df_tweets = pd.DataFrame.from_records(tweets, columns=['time_created', 'twid', 'user_id', 'rtwid', '#followers', \\\n",
    "                                                          '#friends', '#mentions', '#hashtags', 'lang_tweet', \\\n",
    "                                                           'lang_user', 'place'])\n",
    "    df_tweets.time_created = pd.to_datetime(df_tweets.time_created)\n",
    "    return (df_tweets)"
   ]
  },
  {
   "cell_type": "code",
   "execution_count": 3,
   "metadata": {
    "collapsed": true,
    "deletable": false,
    "editable": false,
    "nbgrader": {
     "checksum": "1175d27dc6ccc66547fee3d7c138d14e",
     "grade": false,
     "grade_id": "cell-b0dc181d2aab0580",
     "locked": true,
     "schema_version": 1,
     "solution": false
    }
   },
   "outputs": [],
   "source": [
    "## Do not change/edit this cell, it's required for tests in cell below\n",
    "df_tweets = read_json('data/yt_tweets/')"
   ]
  },
  {
   "cell_type": "code",
   "execution_count": 4,
   "metadata": {
    "collapsed": true,
    "deletable": false,
    "editable": false,
    "nbgrader": {
     "checksum": "5a06f46e7b43fb30881281aa4a1d3c5d",
     "grade": true,
     "grade_id": "cell-ddc5b476123a15e5",
     "locked": true,
     "points": 15,
     "schema_version": 1,
     "solution": false
    }
   },
   "outputs": [],
   "source": [
    "assert(df_tweets.size==202719)\n",
    "assert(sum(df_tweets.columns==['time_created', 'twid', 'user_id', 'rtwid', '#followers', '#friends',\n",
    "       '#mentions', '#hashtags', 'lang_tweet', 'lang_user', 'place']) == 11)\n",
    "assert(len(df_tweets['place'].unique())==125)"
   ]
  },
  {
   "cell_type": "markdown",
   "metadata": {
    "deletable": false,
    "editable": false,
    "nbgrader": {
     "checksum": "34fe7ff234b29d94c5aec45afdb201ab",
     "grade": false,
     "grade_id": "cell-ac01d346e02c0529",
     "locked": true,
     "schema_version": 1,
     "solution": false
    }
   },
   "source": [
    "## Note \n",
    "\n",
    "* You can write more than one line of code for Q2 to Q10 but you cannot and should not hard code any values.\n",
    "* The only exception for hard coded values are the aesthetic elements of a visualization, like title, axis labels, legend labels, and others.\n",
    "* All your visualizations should be inline and interpretable, i.e it should at least have title, axis labels, legend labels.\n",
    "* From Q2 to Q10 we assume that the only data you have access to is the clean data that we have provided you with, which is loaded into memory by running the cell below.\n",
    "* Fields for the clean data are same as the ones explained in Q1."
   ]
  },
  {
   "cell_type": "code",
   "execution_count": 5,
   "metadata": {
    "collapsed": true,
    "deletable": false,
    "editable": false,
    "nbgrader": {
     "checksum": "8466f67f9fd9230a53e5532ffee44595",
     "grade": false,
     "grade_id": "cell-2c9a573404029bc4",
     "locked": true,
     "schema_version": 1,
     "solution": false
    }
   },
   "outputs": [],
   "source": [
    "## Do not change this cell, it's required for Q2 to Q10\n",
    "## This dataframe is essentially same as dataframe you extracted in Q1\n",
    "## You need to use this dataframe as few of our autograded tests depend on index,\n",
    "## hence we want everyone to use the data given below. Other idea about giving the \n",
    "## clean dataset is to help students perform Q2 to Q10, even if they have not been able\n",
    "## complete Q1\n",
    "\n",
    "df_tweets = pd.read_hdf('data/yt_tweets_df.h5')"
   ]
  },
  {
   "cell_type": "markdown",
   "metadata": {
    "deletable": false,
    "editable": false,
    "nbgrader": {
     "checksum": "76e2205cde2cbb26b040980d0f3aafc4",
     "grade": false,
     "grade_id": "cell-9a8f6271bd9fa646",
     "locked": true,
     "schema_version": 1,
     "solution": false
    }
   },
   "source": [
    "# Q2 [5 marks]\n",
    "\n",
    "Complete the logic for function `get_places_tweets(data)`. The function takes as input a dataframe of all tweets and returns a dataframe of tweet/tweets with only those tweets that have a valid name for the column place in the dataframe. Note, our data has entries of places for all rows but few of those entries do not correspond to any valid place name as it says 'NaN' (Not a Number) which indicates missing data.\n",
    " "
   ]
  },
  {
   "cell_type": "code",
   "execution_count": 6,
   "metadata": {
    "collapsed": true,
    "deletable": false,
    "nbgrader": {
     "checksum": "9e4c0ecf325ee77af62ea510118d9727",
     "grade": false,
     "grade_id": "cell-f27018188dd92980",
     "locked": false,
     "schema_version": 1,
     "solution": true
    }
   },
   "outputs": [],
   "source": [
    "def get_places_tweets(data):\n",
    "    # YOUR CODE HERE\n",
    "    import math\n",
    "    df = data.loc[~data['place'].isnull()]\n",
    "    return (df)"
   ]
  },
  {
   "cell_type": "code",
   "execution_count": 7,
   "metadata": {
    "collapsed": true,
    "deletable": false,
    "editable": false,
    "nbgrader": {
     "checksum": "1a25c6305e063d31b7111f78d25aedf9",
     "grade": false,
     "grade_id": "cell-30a4a3ef5431238e",
     "locked": true,
     "schema_version": 1,
     "solution": false
    }
   },
   "outputs": [],
   "source": [
    "## Do not change/edit this cell, it's required for tests in cell below\n",
    "df = get_places_tweets(df_tweets)"
   ]
  },
  {
   "cell_type": "code",
   "execution_count": 8,
   "metadata": {
    "collapsed": true,
    "deletable": false,
    "editable": false,
    "nbgrader": {
     "checksum": "80d107d692834de91232b218a0d09d07",
     "grade": true,
     "grade_id": "cell-c421b7264aa78bdf",
     "locked": true,
     "points": 5,
     "schema_version": 1,
     "solution": false
    }
   },
   "outputs": [],
   "source": [
    "assert(df[df['twid']=='501592821795549185']['place'].values=='Chatuchak')\n",
    "assert(df.size==1694)"
   ]
  },
  {
   "cell_type": "markdown",
   "metadata": {
    "deletable": false,
    "editable": false,
    "nbgrader": {
     "checksum": "f40816ff57a08c49955ce140d87e1da2",
     "grade": false,
     "grade_id": "cell-d9558b0b304fd223",
     "locked": true,
     "schema_version": 1,
     "solution": false
    }
   },
   "source": [
    "# Q3 [5 marks]\n",
    "\n",
    "Complete function `get_is_tweet_lang_lang_user(data)`. The function takes as input a dataframe of all tweets and returns a dataframe of tweet/tweets where the language of the tweet is same as the language of the user.\n",
    " "
   ]
  },
  {
   "cell_type": "code",
   "execution_count": 9,
   "metadata": {
    "collapsed": true,
    "deletable": false,
    "nbgrader": {
     "checksum": "c91170155f7fe3e689a352da21f0d859",
     "grade": false,
     "grade_id": "cell-6709650e74d8bb66",
     "locked": false,
     "schema_version": 1,
     "solution": true
    }
   },
   "outputs": [],
   "source": [
    "def get_is_tweet_lang_lang_user(data):\n",
    "    df = data[data['lang_tweet'] == data['lang_user']]\n",
    "    return (df)"
   ]
  },
  {
   "cell_type": "code",
   "execution_count": 10,
   "metadata": {
    "collapsed": true,
    "deletable": false,
    "editable": false,
    "nbgrader": {
     "checksum": "02f23008e5ff6089e7d4ff667f12e732",
     "grade": false,
     "grade_id": "cell-90258cd5bf54f8d2",
     "locked": true,
     "schema_version": 1,
     "solution": false
    }
   },
   "outputs": [],
   "source": [
    "## Do not change/edit this cell, it's required for tests in cell below\n",
    "df = get_is_tweet_lang_lang_user(df_tweets)"
   ]
  },
  {
   "cell_type": "code",
   "execution_count": 11,
   "metadata": {
    "collapsed": true,
    "deletable": false,
    "editable": false,
    "nbgrader": {
     "checksum": "b617294d11c7c21c7f7da6fd3354f987",
     "grade": true,
     "grade_id": "cell-7317db912569eb00",
     "locked": true,
     "points": 5,
     "schema_version": 1,
     "solution": false
    }
   },
   "outputs": [],
   "source": [
    "assert(df.shape==(15109,11))\n",
    "assert(len(df.lang_user.unique())==21)"
   ]
  },
  {
   "cell_type": "markdown",
   "metadata": {
    "deletable": false,
    "editable": false,
    "nbgrader": {
     "checksum": "d8491d691cb5b3c01a5cb42d308c8d5b",
     "grade": false,
     "grade_id": "cell-38d69dd815167371",
     "locked": true,
     "schema_version": 1,
     "solution": false
    }
   },
   "source": [
    "# Q4 [10 marks]\n",
    "\n",
    "Complete the function `get_only_tweet_language(data)`. The function takes as input a dataframe of all tweets and returns a dataframe containing only those tweets that are in a language other than any of the user language in the dataset (you might find this [example](https://pandas.pydata.org/pandas-docs/stable/generated/pandas.DataFrame.isin.html) useful)."
   ]
  },
  {
   "cell_type": "code",
   "execution_count": 12,
   "metadata": {
    "collapsed": true,
    "deletable": false,
    "nbgrader": {
     "checksum": "7bbcd7d615fabd5d2b388a7a5504598f",
     "grade": false,
     "grade_id": "cell-df2d31be1ea07604",
     "locked": false,
     "schema_version": 1,
     "solution": true
    }
   },
   "outputs": [],
   "source": [
    "def get_only_tweet_language(data):\n",
    "    series = pd.Series(data['lang_user'])\n",
    "    df = data.loc[~data['lang_tweet'].isin(series)]\n",
    "    return (df)"
   ]
  },
  {
   "cell_type": "code",
   "execution_count": 13,
   "metadata": {
    "collapsed": true,
    "deletable": false,
    "editable": false,
    "nbgrader": {
     "checksum": "19d99ba9353d6024236d4f970556ad3c",
     "grade": false,
     "grade_id": "cell-7ea91a5f509ef918",
     "locked": true,
     "schema_version": 1,
     "solution": false
    }
   },
   "outputs": [],
   "source": [
    "## Do not change/edit this cell, it's required for tests in cell below\n",
    "df = get_only_tweet_language(df_tweets)"
   ]
  },
  {
   "cell_type": "code",
   "execution_count": 14,
   "metadata": {
    "collapsed": true,
    "deletable": false,
    "editable": false,
    "nbgrader": {
     "checksum": "5e4d4e9d18cbfd917cda49cc5d4d551e",
     "grade": true,
     "grade_id": "cell-5feadfa556cd9010",
     "locked": true,
     "points": 10,
     "schema_version": 1,
     "solution": false
    }
   },
   "outputs": [],
   "source": [
    "assert(df.shape==(937,11))\n",
    "assert(len(df.lang_tweet.unique())==16)"
   ]
  },
  {
   "cell_type": "markdown",
   "metadata": {
    "deletable": false,
    "editable": false,
    "nbgrader": {
     "checksum": "52f829e032d10d2f34a088b7245cb55a",
     "grade": false,
     "grade_id": "cell-64b05d3ed80f4d60",
     "locked": true,
     "schema_version": 1,
     "solution": false
    }
   },
   "source": [
    "## Q5 [10 marks] (slightly hard)\n",
    "\n",
    "Complete the following function `get_mean_median_followers_lang_user_en_tweets(data)`. For all tweets in the English language, find the mean and median values of #followers for all unique values of the user language. The function takes as input a dataframe of all tweets and returns a dictionary with unique values of the user language as it's key. The value for each key of the returned dictionary should be a dictionary itself with keys mean and median, representing mean and median of #followers for the user language.  You should consider the language code 'en' as the only valid code stating that the tweet.user's language is English.\n",
    "\n",
    "Your output dictionary should look something like this:-\n",
    "\n",
    "`{'ar': {'mean': 14.0, 'median': 0.0},\n",
    " 'ca': {'mean': 383.5, 'median': 383.5}}`\n",
    " \n",
    "**Note:** You might find this [example](https://pandas.pydata.org/pandas-docs/stable/generated/pandas.DataFrame.to_dict.html) useful."
   ]
  },
  {
   "cell_type": "code",
   "execution_count": 15,
   "metadata": {
    "collapsed": true,
    "deletable": false,
    "nbgrader": {
     "checksum": "2bfa50ecfdbda353478326d3e6fcc787",
     "grade": false,
     "grade_id": "cell-b8ee0c9c6c1a4f59",
     "locked": false,
     "schema_version": 1,
     "solution": true
    }
   },
   "outputs": [],
   "source": [
    "def get_mean_median_followers_lang_user_en_tweets(data):\n",
    "    # YOUR CODE HERE\n",
    "    english_tweets = data.loc[data['lang_tweet'] == 'en']\n",
    "    user_lang_dict = english_tweets.groupby('lang_user')['#followers'].agg(['mean', 'median']).to_dict('index')\n",
    "    return (user_lang_dict)"
   ]
  },
  {
   "cell_type": "code",
   "execution_count": 16,
   "metadata": {
    "collapsed": true,
    "deletable": false,
    "editable": false,
    "nbgrader": {
     "checksum": "9faa0657fbe7c9756a1ab06085791cd1",
     "grade": false,
     "grade_id": "cell-dd073ea87ab5bc05",
     "locked": true,
     "schema_version": 1,
     "solution": false
    }
   },
   "outputs": [],
   "source": [
    "## Do not change/edit this cell, it's required for tests in cell below\n",
    "user_lang_dict = get_mean_median_followers_lang_user_en_tweets(df_tweets)"
   ]
  },
  {
   "cell_type": "code",
   "execution_count": 17,
   "metadata": {
    "collapsed": true,
    "deletable": false,
    "editable": false,
    "nbgrader": {
     "checksum": "99b0420a7c555f14dfdebe5616152443",
     "grade": true,
     "grade_id": "cell-a9f837360be929b3",
     "locked": true,
     "points": 10,
     "schema_version": 1,
     "solution": false
    }
   },
   "outputs": [],
   "source": [
    "assert(user_lang_dict.get('en-gb')['median']==57.0)\n",
    "assert(user_lang_dict.get('da')['median']==5405.5)"
   ]
  },
  {
   "cell_type": "code",
   "execution_count": 31,
   "metadata": {},
   "outputs": [
    {
     "name": "stdout",
     "output_type": "stream",
     "text": [
      "{'mean': {'ar': 14.0, 'ca': 383.5, 'cs': 50.0, 'da': 5405.5, 'de': 1998.1153846153845, 'el': 11.0, 'en': 5975.402281928597, 'en-GB': 3.0, 'en-gb': 255.85714285714286, 'es': 522.3417721518987, 'fi': 17.333333333333332, 'fil': 180.0, 'fr': 898.8595041322315, 'gl': 298.0, 'he': 56.0, 'hu': 13.0, 'id': 2049.1458333333335, 'it': 413.69565217391306, 'ja': 7057.589743589743, 'ko': 216.96296296296296, 'nl': 342.74074074074076, 'no': 627.7142857142857, 'pl': 195.66666666666666, 'pt': 357.6875, 'ro': 25.2, 'ru': 258.7142857142857, 'sv': 66.66666666666667, 'th': 712.8461538461538, 'tr': 504.3333333333333, 'zh-Hans': 0.0, 'zh-cn': 8.0, 'zh-tw': 179.75}, 'median': {'ar': 0.0, 'ca': 383.5, 'cs': 50.0, 'da': 5405.5, 'de': 185.0, 'el': 11.0, 'en': 258.0, 'en-GB': 3.0, 'en-gb': 57.0, 'es': 267.0, 'fi': 16.0, 'fil': 180.0, 'fr': 269.0, 'gl': 298.0, 'he': 56.0, 'hu': 13.0, 'id': 462.0, 'it': 87.0, 'ja': 142.0, 'ko': 32.0, 'nl': 123.0, 'no': 27.0, 'pl': 100.0, 'pt': 131.0, 'ro': 34.0, 'ru': 312.0, 'sv': 62.0, 'th': 150.0, 'tr': 371.5, 'zh-Hans': 0.0, 'zh-cn': 8.0, 'zh-tw': 48.0}}\n"
     ]
    }
   ],
   "source": [
    "english_tweets = df_tweets.loc[df_tweets['lang_tweet'] == 'en']\n",
    "user_lang_dict = english_tweets.groupby('lang_user')['#followers'].agg(['mean', 'median']).to_dict()\n",
    "print(user_lang_dict)"
   ]
  },
  {
   "cell_type": "markdown",
   "metadata": {
    "deletable": false,
    "editable": false,
    "nbgrader": {
     "checksum": "f853c7bbcfea9740cfd2677a8f5b6927",
     "grade": false,
     "grade_id": "cell-c6df25f7013c075d",
     "locked": true,
     "schema_version": 1,
     "solution": false
    }
   },
   "source": [
    "# Q6 [10 marks] \n",
    "\n",
    "1. Visualize the distribution of #friends of a user in our dataset. Your visualization should display this information segregated by the number of hashtags in the tweet. For example, your visualization should help someone to find if we have a different distribution for #friends for users who tend to include more number of hashtags in their tweets. You should produce a single visualization for the question. **[7 marks]**\n",
    "2. Justify your choice of visualization. You can write your justification for visualization in the space indicated below. **[3 marks]**"
   ]
  },
  {
   "cell_type": "code",
   "execution_count": 18,
   "metadata": {
    "deletable": false,
    "nbgrader": {
     "checksum": "6d92e12fc25e415f1517a990e7c9bf4e",
     "grade": true,
     "grade_id": "cell-4a6257ade295362c",
     "locked": false,
     "points": 7,
     "schema_version": 1,
     "solution": true
    }
   },
   "outputs": [
    {
     "name": "stderr",
     "output_type": "stream",
     "text": [
      "C:\\Users\\hussa\\Anaconda3\\lib\\site-packages\\seaborn\\categorical.py:454: FutureWarning: remove_na is deprecated and is a private function. Do not use.\n",
      "  box_data = remove_na(group_data)\n"
     ]
    },
    {
     "data": {
      "text/plain": [
       "[Text(0,0,'-1000.0'),\n",
       " Text(0,0,'0.0'),\n",
       " Text(0,0,'1000.0'),\n",
       " Text(0,0,'2000.0'),\n",
       " Text(0,0,'3000.0'),\n",
       " Text(0,0,'4000.0'),\n",
       " Text(0,0,'5000.0'),\n",
       " Text(0,0,'6000.0'),\n",
       " Text(0,0,'7000.0'),\n",
       " Text(0,0,'8000.0')]"
      ]
     },
     "execution_count": 18,
     "metadata": {},
     "output_type": "execute_result"
    },
    {
     "data": {
      "image/png": "[encoded data removed]",
      "text/plain": [
       "<Figure size 1080x504 with 1 Axes>"
      ]
     },
     "metadata": {},
     "output_type": "display_data"
    }
   ],
   "source": [
    "## Just write code here, write justification in next cell\n",
    "# YOUR CODE HERE\n",
    "df_plot = df_tweets.iloc[:,:]\n",
    "sd = df_plot.loc[:,'#friends'].std()\n",
    "mean = df_plot.loc[:,'#friends'].mean()\n",
    "high = mean + 3*sd\n",
    "low = -mean - 3*sd\n",
    "df_plot.loc[:,'#friends'] = df_plot.loc[:,'#friends'].apply(lambda x: mean if (x<low or x>high) else x)\n",
    "plt.figure(figsize=(15,7))\n",
    "ax = sns.boxplot(x='#hashtags', y='#friends',data=df_tweets)\n",
    "ax.set_xlabel('Hashtags', fontsize=18)\n",
    "ax.set_ylabel('Friends of user', fontsize=18)\n",
    "ax.set_title('Plot between Friends of user and hashtags', fontsize=22)\n",
    "ax.set_xticklabels(ax.get_xticklabels(),fontsize=16)\n",
    "ax.set_yticklabels(ax.get_yticks(),fontsize=16)"
   ]
  },
  {
   "cell_type": "markdown",
   "metadata": {
    "deletable": false,
    "nbgrader": {
     "checksum": "a8441bd18333377fe0732e966d360c1a",
     "grade": true,
     "grade_id": "cell-2d1986cad54dc7a6",
     "locked": false,
     "points": 3,
     "schema_version": 1,
     "solution": true
    }
   },
   "source": [
    "Your justification here\n",
    "\n",
    "The reason we chose this visualisation is it depicts the number of hashtags used by the friends of the user. \n",
    "As can be seen from the graph that there are more than the 7000 friends have 0 hashtags, there are less than 500 friends almost neglible friends of users with 10 hashtags. "
   ]
  },
  {
   "cell_type": "markdown",
   "metadata": {
    "deletable": false,
    "editable": false,
    "nbgrader": {
     "checksum": "9bfa3d09602f69871f354ca21a54a3ba",
     "grade": false,
     "grade_id": "cell-364eb84fa1d0e7fc",
     "locked": true,
     "schema_version": 1,
     "solution": false
    }
   },
   "source": [
    "# Q7 [15 marks] (hard)\n",
    "\n",
    "1. Visualize the distribution of median of #friends of a user, using only the top 2 most frequent languages in the dataset. Your visualization should also convey how this distribution is dependent upon the number of hashtags in the tweet. **[7 marks]**\n",
    "\n",
    "2. Justify your choice of plot. **[3 marks]**\n",
    "\n",
    "3. What conclusions can you draw about distribution of median of #friends for both languages? Are there any common trends between two languages and what are the major differences in distribution of median of #friends of user. **[5 marks]**"
   ]
  },
  {
   "cell_type": "code",
   "execution_count": 19,
   "metadata": {
    "deletable": false,
    "nbgrader": {
     "checksum": "6d5c6ea9ed0edae82722be90812073cb",
     "grade": true,
     "grade_id": "cell-6b4747ba0f959f38",
     "locked": false,
     "points": 7,
     "schema_version": 1,
     "solution": true
    }
   },
   "outputs": [
    {
     "name": "stdout",
     "output_type": "stream",
     "text": [
      "#hashtags\n",
      "0     293.0\n",
      "1     447.0\n",
      "2     285.5\n",
      "3     244.0\n",
      "4     238.0\n",
      "5     291.5\n",
      "6    3863.0\n",
      "Name: #friends, dtype: float64 #hashtags\n",
      "0     244.000000\n",
      "1     346.000000\n",
      "2     219.500000\n",
      "3     612.021162\n",
      "4    1525.500000\n",
      "5    1543.000000\n",
      "Name: #friends, dtype: float64\n"
     ]
    },
    {
     "data": {
      "text/plain": [
       "[Text(0,0,'0.0'),\n",
       " Text(0,0,'500.0'),\n",
       " Text(0,0,'1000.0'),\n",
       " Text(0,0,'1500.0'),\n",
       " Text(0,0,'2000.0'),\n",
       " Text(0,0,'2500.0'),\n",
       " Text(0,0,'3000.0'),\n",
       " Text(0,0,'3500.0'),\n",
       " Text(0,0,'4000.0'),\n",
       " Text(0,0,'4500.0')]"
      ]
     },
     "execution_count": 19,
     "metadata": {},
     "output_type": "execute_result"
    },
    {
     "data": {
      "image/png": "[encoded data removed]",
      "text/plain": [
       "<Figure size 1080x504 with 1 Axes>"
      ]
     },
     "metadata": {},
     "output_type": "display_data"
    }
   ],
   "source": [
    "## Just write code here, write justification in next cell\n",
    "# df_most = df_tweets.groupby('lang_tweet')['lang_tweet'].count().nlargest(2)\n",
    "#das = pd.DataFrame([])\n",
    "#das = (df_tweets['lang_user'].value_counts().sort_values(ascending=False).to_dict())\n",
    "#my_tweets = df_tweets.loc[df_tweets['lang_tweet'].isin(das)]\n",
    "#a = (df_tweets['lang_user'].values).tolist()\n",
    "#print(my_tweets.head(5))\n",
    "#user_lang_df = pd.DataFrame(columns = ['median'])\n",
    "\n",
    "das = pd.value_counts(df_tweets['lang_tweet']).nlargest(2).index.values.tolist()\n",
    "lg = df_tweets.loc[(df_tweets['lang_tweet'] == das[0])] \n",
    "lgs = df_tweets.loc[(df_tweets['lang_tweet'] == das[1])] \n",
    "a1 = lg.groupby('#hashtags')['#friends'].median()\n",
    "a2 = lgs.groupby('#hashtags')['#friends'].median()\n",
    "print(a1,a2)\n",
    "#a1.plot.area(alpha=1)\n",
    "#a2.plot.area(alpha=1)\n",
    "plt.figure(figsize=(15,7))\n",
    "ax = a1.plot.area(alpha=1,stacked=True)\n",
    "ax = a2.plot.area(alpha=1,stacked=False)\n",
    "ax.set_xlabel('Hashtags', fontsize=18)\n",
    "ax.set_ylabel('Median of friends', fontsize=18)\n",
    "ax.set_title('Plot between median of friends and hashtags', fontsize=22)\n",
    "ax.set_xticklabels(ax.get_xticklabels(),fontsize=16)\n",
    "ax.set_yticklabels(ax.get_yticks(),fontsize=16)"
   ]
  },
  {
   "cell_type": "markdown",
   "metadata": {
    "deletable": false,
    "nbgrader": {
     "checksum": "43147c4cf46b13f506076f69adc4fecf",
     "grade": true,
     "grade_id": "cell-68d655ee1c5f476f",
     "locked": false,
     "points": 3,
     "schema_version": 1,
     "solution": true
    }
   },
   "source": [
    "Your justification here(Q7.2)\n",
    "We chose this plot as it clearly decpits the area covered by the median for each language by friends of the user.\n",
    "It shows the amount of hashtags used by the friends of users using these languages. With this graph we can also understand the behviour of the users while using these lagnuages."
   ]
  },
  {
   "cell_type": "markdown",
   "metadata": {
    "deletable": false,
    "nbgrader": {
     "checksum": "478a34d777d6aabb65bfcd1f802f4ba4",
     "grade": true,
     "grade_id": "cell-a56983fd38c0efc7",
     "locked": false,
     "points": 5,
     "schema_version": 1,
     "solution": true
    }
   },
   "source": [
    "Observations and Conclusions(Q7.3)\n",
    "What we infer from the graphs is the similarity in the curves for both the language users, with the slope increase of the largest used language increasing after the slope increase of the second highest language users.\n",
    "There is gradual increase in the slope of the second highest language whereas the highest used language has almost constant curve only towards the end does the slope increases and becomes constant.What can be understood from this is the behaviour of the friends using these languages, the highest used language has more number of hashtags used overall and the friends using it usually do it with a steep increase in the number of hashtags i.e a good majority of the friends use 5or more hashtags while using this language. On the contrary the second highest used language has lower number of hashtags overall and the friends using it have a gradual increase in the number of hashtags but no one has used the maximum hashtags."
   ]
  },
  {
   "cell_type": "markdown",
   "metadata": {
    "deletable": false,
    "editable": false,
    "nbgrader": {
     "checksum": "6f13d6e278ba22b0f41692872a51972f",
     "grade": false,
     "grade_id": "cell-965c830d22bd85c5",
     "locked": true,
     "schema_version": 1,
     "solution": false
    }
   },
   "source": [
    "### Q8 and Q9 will require to look into methods not part of lecture or labs. We have provided links to some examples that might be useful in solving those questions."
   ]
  },
  {
   "cell_type": "markdown",
   "metadata": {
    "deletable": false,
    "editable": false,
    "nbgrader": {
     "checksum": "738753a93f40093a1a5c2d39878e0e06",
     "grade": false,
     "grade_id": "cell-63354551fb5b518b",
     "locked": true,
     "schema_version": 1,
     "solution": false
    }
   },
   "source": [
    "## Q8 [15 marks] (slightly hard)\n",
    "\n",
    "\n",
    "Complete the following function `get_most_retweeted_tweets(data, n)`. Return details of 'n' most retweeted tweets in the dataset (you might find this [example](https://pandas.pydata.org/pandas-docs/stable/generated/pandas.DataFrame.isin.html) useful). You also need to return the number of times a particular tweet is retweeted as part of the dataframe. You do not need to sort the dataframe in any particular order.\n",
    "\n",
    "**Note** This question might require you to play a bit more with your dataframe, specially things like reset_index of a [dataframe](https://pandas.pydata.org/pandas-docs/stable/generated/pandas.DataFrame.reset_index.html) and would require working on more than one dataframe."
   ]
  },
  {
   "cell_type": "code",
   "execution_count": 20,
   "metadata": {
    "collapsed": true,
    "deletable": false,
    "nbgrader": {
     "checksum": "fed9ad15e17afb4f7066edb76a4774d6",
     "grade": false,
     "grade_id": "cell-d0b1e912abbaa6ec",
     "locked": false,
     "schema_version": 1,
     "solution": true
    }
   },
   "outputs": [],
   "source": [
    "def get_most_retweeted_tweets(data, n):\n",
    "    # YOUR CODE HERE\n",
    "    data['counts'] = data.groupby('rtwid')['rtwid'].transform('count')\n",
    "    myseries_dict = pd.value_counts(data['rtwid']).nlargest(10).to_dict()\n",
    "    df = data.loc[data['twid'].isin(myseries_dict)]\n",
    "    return (df)"
   ]
  },
  {
   "cell_type": "code",
   "execution_count": 21,
   "metadata": {
    "collapsed": true,
    "deletable": false,
    "editable": false,
    "nbgrader": {
     "checksum": "9e8e24a6b5b608d8e8ba485fdbf571ec",
     "grade": true,
     "grade_id": "cell-b082080bcb4ddf33",
     "locked": true,
     "points": 15,
     "schema_version": 1,
     "solution": false
    }
   },
   "outputs": [],
   "source": [
    "assert(get_most_retweeted_tweets(df_tweets,10).shape==(10,12))\n",
    "assert(get_most_retweeted_tweets(df_tweets,10).counts.max()==815)"
   ]
  },
  {
   "cell_type": "markdown",
   "metadata": {
    "deletable": false,
    "editable": false,
    "nbgrader": {
     "checksum": "f8b15bc64d10f80cf618de1b36e9cea0",
     "grade": false,
     "grade_id": "cell-a60493de1b0e2a35",
     "locked": true,
     "schema_version": 1,
     "solution": false
    }
   },
   "source": [
    "## Q9 [15 marks] (hard)\n",
    "\n",
    "Complete the following function `get_tweets_hrs(data,tweet_id,hours)`.  The\n",
    "function returns a dataframe containing all of the retweets for a tweet\n",
    "(including the tweet) with a given tweet id (`twid=tweet_id`) and within a given\n",
    "number of hours (`hours`) after it was first tweeted.\n",
    "\n",
    "You might find this [example](https://pandas.pydata.org/pandas-docs/stable/timedeltas.html) useful."
   ]
  },
  {
   "cell_type": "code",
   "execution_count": 22,
   "metadata": {
    "collapsed": true,
    "deletable": false,
    "nbgrader": {
     "checksum": "43d0fac1af17882f61b943334dad0cfa",
     "grade": false,
     "grade_id": "cell-21c9eee15fe61e05",
     "locked": false,
     "schema_version": 1,
     "solution": true
    }
   },
   "outputs": [],
   "source": [
    "def get_tweets_hrs(data,tweet_id,hours):\n",
    "    # YOUR CODE HERE\n",
    "    original = data.loc[data['twid'] == tweet_id]\n",
    "    dt = original.iloc[0]['time_created']\n",
    "    df = data.loc[(data['rtwid'] == tweet_id) & (data['time_created'].apply(lambda x: ((pd.Timedelta(pd.to_datetime(x)-dt).days*24*3600 + pd.Timedelta(pd.to_datetime(x)-dt).seconds) / 3600) < hours))]\n",
    "    df = df.drop(columns=['counts'])\n",
    "    return (df)"
   ]
  },
  {
   "cell_type": "code",
   "execution_count": 23,
   "metadata": {
    "collapsed": true,
    "deletable": false,
    "editable": false,
    "nbgrader": {
     "checksum": "875aa486e634591165a45f2970485cdc",
     "grade": true,
     "grade_id": "cell-bd1966f35ad5115d",
     "locked": true,
     "points": 15,
     "schema_version": 1,
     "solution": false
    }
   },
   "outputs": [],
   "source": [
    "assert(get_tweets_hrs(df_tweets,'498439420463153152',3).shape==(102,11))\n",
    "assert(get_tweets_hrs(df_tweets,'498291667007328256',3).shape==(46,11))\n",
    "df = get_tweets_hrs(df_tweets,'498439420463153152',3)\n",
    "assert(df['time_created'].iloc[-1] - df['time_created'].iloc[0]==pd.Timedelta('0 days 02:46:06'))"
   ]
  },
  {
   "cell_type": "markdown",
   "metadata": {
    "collapsed": true
   },
   "source": [
    "    \\text{loss}(x, class) = -\\log\\left(\\frac{\\exp(x[class])}{\\sum_j \\exp(x[j])}\\right)\n",
    "                   = -x[class] + \\log\\left(\\sum_j \\exp(x[j])\\right)"
   ]
  },
  {
   "cell_type": "code",
   "execution_count": null,
   "metadata": {
    "collapsed": true
   },
   "outputs": [],
   "source": []
  }
 ],
 "metadata": {
  "kernelspec": {
   "display_name": "Python 3",
   "language": "python",
   "name": "python3"
  },
  "language_info": {
   "codemirror_mode": {
    "name": "ipython",
    "version": 3
   },
   "file_extension": ".py",
   "mimetype": "text/x-python",
   "name": "python",
   "nbconvert_exporter": "python",
   "pygments_lexer": "ipython3",
   "version": "3.6.1"
  }
 },
 "nbformat": 4,
 "nbformat_minor": 2
}
